{
 "cells": [
  {
   "cell_type": "code",
   "execution_count": 1,
   "metadata": {},
   "outputs": [],
   "source": [
    "import pandas as pd\n",
    "import time\n",
    "from urllib.request import urlopen\n",
    "import requests\n",
    "from bs4 import BeautifulSoup\n",
    "from graphviz import Digraph\n",
    "import re\n",
    "import time\n",
    "import scrapy\n",
    "\n",
    "import warnings\n",
    "warnings.filterwarnings(\"ignore\")"
   ]
  },
  {
   "cell_type": "markdown",
   "metadata": {},
   "source": [
    "# Web and Cloud Computing (DSCI 525): Lab 1\n",
    "## General Lab Instructions\n",
    "\n",
    "rubric={mechanics:4,quality:4,writing:2}\n",
    "\n",
    "- Follow the [general lab instructions](https://ubc-mds.github.io/resources_pages/general_lab_instructions/).\n",
    "- This assignment is to be completed in python, submitting both a `.ipynb` file (you can add your answers directly to this one) along with a rendered `.md`.\n",
    "- I added an Intro section to help you with the basics for this lab. If you are already comfortable with scrapping data using python, you can safely skip it."
   ]
  },
  {
   "cell_type": "markdown",
   "metadata": {},
   "source": [
    "## Intro \n",
    "\n",
    "Let's have this intro section to introduce you to the main python functions to deal with web scrapping and crawling."
   ]
  },
  {
   "cell_type": "markdown",
   "metadata": {},
   "source": [
    "### Web requests\n",
    "\n",
    "When you navigate to a website, there are many things going on under the hood. Many layers of protocols are used to allow you to communicate with a web server (take a look at the [OSI model](https://en.wikipedia.org/wiki/OSI_model) if you are curious). We will be mostly dealing with the last layer (Layer 7 - [application layer](https://en.wikipedia.org/wiki/Application_layer)) and [HTTP](https://en.wikipedia.org/wiki/Hypertext_Transfer_Protocol) (HyperText Transfer Protocol). We'll leave for the python libraries to handle the details of the other layers for us. \n",
    "\n",
    "HTTP is text based. For example, to send a GET request to a web server:\n",
    "```\n",
    "GET /HTTP/1.1\n",
    "Host: www.google.com\n",
    "User-Agent: Python-urllib/3.6\n",
    "```\n",
    "and the server send back a response, also with a header and the requested content.\n",
    "\n",
    "Here we will use python (instead of a web browser like Chrome) to collect information from the web. For illustration purposes, let's scrap historical data of the Word Cups (soccer) available in [this wikipedia page](https://en.wikipedia.org/wiki/List_of_FIFA_World_Cup_winners)."
   ]
  },
  {
   "cell_type": "markdown",
   "metadata": {},
   "source": [
    "#### The `urllib` package\n",
    "\n",
    "The [`urllib`](https://docs.python.org/3/library/urllib.html) is a built-in package in python focused on dealing with URLs. To open and read URLs, we use the function [`urllib.request.urlopen`](https://docs.python.org/3/library/urllib.request.html#module-urllib.request). Let's start by importing this function."
   ]
  },
  {
   "cell_type": "code",
   "execution_count": 2,
   "metadata": {},
   "outputs": [],
   "source": [
    "from urllib.request import urlopen"
   ]
  },
  {
   "cell_type": "markdown",
   "metadata": {},
   "source": [
    "Ok, now all we have to do is to call the function and pass the URL we want. Note that although we don't usually need to add the \"http://\" when we are using a web browser, here we do (try removing this part if you are curious)."
   ]
  },
  {
   "cell_type": "code",
   "execution_count": 3,
   "metadata": {},
   "outputs": [],
   "source": [
    "soccer_urllib = urlopen(\"https://en.wikipedia.org/wiki/List_of_FIFA_World_Cup_winners\")"
   ]
  },
  {
   "cell_type": "markdown",
   "metadata": {},
   "source": [
    "Now our `soccer_urllib` contains some information of our request. For example:"
   ]
  },
  {
   "cell_type": "code",
   "execution_count": 4,
   "metadata": {},
   "outputs": [
    {
     "name": "stdout",
     "output_type": "stream",
     "text": [
      "The url of our request: https://en.wikipedia.org/wiki/List_of_FIFA_World_Cup_winners\n"
     ]
    }
   ],
   "source": [
    "print(\"The url of our request: \", end=\"\")\n",
    "print(soccer_urllib.geturl())"
   ]
  },
  {
   "cell_type": "markdown",
   "metadata": {},
   "source": [
    "We can also get the header from the server's response (don't need to spend a lot of time trying to understand this header - it is just to show you how to access this info):"
   ]
  },
  {
   "cell_type": "code",
   "execution_count": 5,
   "metadata": {},
   "outputs": [
    {
     "name": "stdout",
     "output_type": "stream",
     "text": [
      "Date: Sat, 23 Mar 2019 23:59:26 GMT\n",
      "Content-Type: text/html; charset=UTF-8\n",
      "Content-Length: 833473\n",
      "Connection: close\n",
      "Server: mw1329.eqiad.wmnet\n",
      "X-Content-Type-Options: nosniff\n",
      "P3P: CP=\"This is not a P3P policy! See https://en.wikipedia.org/wiki/Special:CentralAutoLogin/P3P for more info.\"\n",
      "X-Powered-By: HHVM/3.18.6-dev\n",
      "Content-language: en\n",
      "Last-Modified: Wed, 13 Mar 2019 22:45:31 GMT\n",
      "Backend-Timing: D=226277 t=1553197848441523\n",
      "Vary: Accept-Encoding,Cookie,Authorization,X-Seven\n",
      "X-Varnish: 196074366 510410410, 41161805 927736306, 299942035 1037394880, 772598691 738035058\n",
      "Via: 1.1 varnish (Varnish/5.1), 1.1 varnish (Varnish/5.1), 1.1 varnish (Varnish/5.1), 1.1 varnish (Varnish/5.1)\n",
      "Age: 101507\n",
      "X-Cache: cp1087 hit/3, cp2010 hit/2, cp4032 hit/2, cp4030 hit/5\n",
      "X-Cache-Status: hit-front\n",
      "Server-Timing: cache;desc=\"hit-front\"\n",
      "Strict-Transport-Security: max-age=106384710; includeSubDomains; preload\n",
      "Set-Cookie: WMF-Last-Access=23-Mar-2019;Path=/;HttpOnly;secure;Expires=Wed, 24 Apr 2019 12:00:00 GMT\n",
      "Set-Cookie: WMF-Last-Access-Global=23-Mar-2019;Path=/;Domain=.wikipedia.org;HttpOnly;secure;Expires=Wed, 24 Apr 2019 12:00:00 GMT\n",
      "X-Analytics: ns=0;page_id=27818578;https=1;nocookies=1\n",
      "X-Client-IP: 2001:569:7cf3:3600:cdf0:2dd8:1145:5423\n",
      "Cache-Control: private, s-maxage=0, max-age=0, must-revalidate\n",
      "Set-Cookie: GeoIP=CA:BC:Vancouver:49.27:-123.20:v4; Path=/; secure; Domain=.wikipedia.org\n",
      "Accept-Ranges: bytes\n",
      "\n",
      "\n"
     ]
    }
   ],
   "source": [
    "print(soccer_urllib.info())"
   ]
  },
  {
   "cell_type": "markdown",
   "metadata": {},
   "source": [
    "Ok, but what about the content of the page? Let's check it out!"
   ]
  },
  {
   "cell_type": "code",
   "execution_count": 6,
   "metadata": {},
   "outputs": [],
   "source": [
    "soccer_html = soccer_urllib.read()\n",
    "#print(soccer_html)"
   ]
  },
  {
   "cell_type": "markdown",
   "metadata": {},
   "source": [
    "Yes, it is a complete mess, I know. How to make sense of all this? Well, there are different approaches. We could use regular expression (not a good idea though), or we could use python packages such as [BeautifulSoup](https://www.crummy.com/software/BeautifulSoup/bs4/doc/) and [lxml](https://lxml.de/tutorial.html) to help you make sense of this thing. Here we will focus on `BeautifulSoup`, but you have seen `lxml` in 513, remember?\n",
    "\n",
    "We have to be careful when using `urllib.request.open`, because if you request a webpage that does not exist, it will throw an exception and stop your program. Try running the commented code in the following cell:"
   ]
  },
  {
   "cell_type": "code",
   "execution_count": 7,
   "metadata": {},
   "outputs": [],
   "source": [
    "#my_pg = urlopen(\"www.lourenzu.com\")"
   ]
  },
  {
   "cell_type": "markdown",
   "metadata": {},
   "source": [
    "The exceptions raised by `urllib.request` are defined in [`urllib.error`](https://docs.python.org/3/library/urllib.error.html#module-urllib.error). So we can import this package and make a more robust piece of code that handles these exceptions:"
   ]
  },
  {
   "cell_type": "code",
   "execution_count": 8,
   "metadata": {},
   "outputs": [
    {
     "name": "stdout",
     "output_type": "stream",
     "text": [
      "[Errno 11001] getaddrinfo failed\n"
     ]
    }
   ],
   "source": [
    "from urllib.error import HTTPError, URLError\n",
    "try:\n",
    "    my_pg = urlopen(\"http://www.lourenzu.com\")\n",
    "except URLError as error:\n",
    "    print(error.reason)"
   ]
  },
  {
   "cell_type": "code",
   "execution_count": 9,
   "metadata": {},
   "outputs": [
    {
     "name": "stdout",
     "output_type": "stream",
     "text": [
      "The famous error code:  404\n",
      "The reason for the exception: Not Found\n"
     ]
    }
   ],
   "source": [
    "try:\n",
    "    my_pg = urlopen(\"http://www.google.com/rodolfo_lourenzutti\")\n",
    "except HTTPError as error:\n",
    "    print(\"The famous error code: \", error.code)\n",
    "    print(\"The reason for the exception:\", error.reason)"
   ]
  },
  {
   "cell_type": "markdown",
   "metadata": {},
   "source": [
    "Handling exceptions is an important part of web scrapping. Let's see an alternative package next."
   ]
  },
  {
   "cell_type": "markdown",
   "metadata": {},
   "source": [
    "#### The `requests` package"
   ]
  },
  {
   "cell_type": "markdown",
   "metadata": {},
   "source": [
    "The [`requests`](http://docs.python-requests.org/en/master/user/quickstart/#custom-headers) package is an alternative (not built-in) HTTP library that is becoming more and more popular. Let's load the package and request our wikipedia page: "
   ]
  },
  {
   "cell_type": "code",
   "execution_count": 10,
   "metadata": {},
   "outputs": [],
   "source": [
    "import requests\n",
    "\n",
    "soccer_requests = requests.get(\"https://en.wikipedia.org/wiki/List_of_FIFA_World_Cup_winners\")"
   ]
  },
  {
   "cell_type": "markdown",
   "metadata": {},
   "source": [
    "Differently from the `urllib`, requests does not raise an exception for HTTP errors:"
   ]
  },
  {
   "cell_type": "code",
   "execution_count": 11,
   "metadata": {},
   "outputs": [
    {
     "data": {
      "text/plain": [
       "<Response [404]>"
      ]
     },
     "execution_count": 11,
     "metadata": {},
     "output_type": "execute_result"
    }
   ],
   "source": [
    "bad_request = requests.get(\"http://www.google.com/rodolfo_lourenzutti\")\n",
    "bad_request"
   ]
  },
  {
   "cell_type": "markdown",
   "metadata": {},
   "source": [
    "But it does raise an exception for some errors (uncomment the line below to see):"
   ]
  },
  {
   "cell_type": "code",
   "execution_count": 12,
   "metadata": {},
   "outputs": [],
   "source": [
    "#requests.get(\"http://www.lourenzu.com\")"
   ]
  },
  {
   "cell_type": "markdown",
   "metadata": {},
   "source": [
    "Now, let's check the status code of our wikipedia request:"
   ]
  },
  {
   "cell_type": "code",
   "execution_count": 13,
   "metadata": {},
   "outputs": [
    {
     "data": {
      "text/plain": [
       "200"
      ]
     },
     "execution_count": 13,
     "metadata": {},
     "output_type": "execute_result"
    }
   ],
   "source": [
    "soccer_requests.status_code"
   ]
  },
  {
   "cell_type": "code",
   "execution_count": 14,
   "metadata": {},
   "outputs": [
    {
     "data": {
      "text/plain": [
       "'OK'"
      ]
     },
     "execution_count": 14,
     "metadata": {},
     "output_type": "execute_result"
    }
   ],
   "source": [
    "soccer_requests.reason"
   ]
  },
  {
   "cell_type": "code",
   "execution_count": 15,
   "metadata": {},
   "outputs": [
    {
     "data": {
      "text/plain": [
       "404"
      ]
     },
     "execution_count": 15,
     "metadata": {},
     "output_type": "execute_result"
    }
   ],
   "source": [
    "bad_request.status_code"
   ]
  },
  {
   "cell_type": "code",
   "execution_count": 16,
   "metadata": {},
   "outputs": [
    {
     "data": {
      "text/plain": [
       "'Not Found'"
      ]
     },
     "execution_count": 16,
     "metadata": {},
     "output_type": "execute_result"
    }
   ],
   "source": [
    "bad_request.reason"
   ]
  },
  {
   "cell_type": "markdown",
   "metadata": {},
   "source": [
    "Great! Code 200 means everything is ok! We can also check the headers of the request and of the response: "
   ]
  },
  {
   "cell_type": "code",
   "execution_count": 17,
   "metadata": {},
   "outputs": [
    {
     "name": "stdout",
     "output_type": "stream",
     "text": [
      "{'User-Agent': 'python-requests/2.18.4', 'Accept-Encoding': 'gzip, deflate', 'Accept': '*/*', 'Connection': 'keep-alive'}\n"
     ]
    }
   ],
   "source": [
    "# Headers of the request\n",
    "print(soccer_requests.request.headers)"
   ]
  },
  {
   "cell_type": "code",
   "execution_count": 18,
   "metadata": {},
   "outputs": [
    {
     "data": {
      "text/plain": [
       "{'Date': 'Sat, 23 Mar 2019 23:59:27 GMT', 'Content-Type': 'text/html; charset=UTF-8', 'Content-Length': '70018', 'Connection': 'keep-alive', 'Server': 'mw1329.eqiad.wmnet', 'X-Content-Type-Options': 'nosniff', 'P3P': 'CP=\"This is not a P3P policy! See https://en.wikipedia.org/wiki/Special:CentralAutoLogin/P3P for more info.\"', 'X-Powered-By': 'HHVM/3.18.6-dev', 'Content-language': 'en', 'Last-Modified': 'Wed, 13 Mar 2019 22:45:31 GMT', 'Backend-Timing': 'D=226277 t=1553197848441523', 'Content-Encoding': 'gzip', 'Vary': 'Accept-Encoding,Cookie,Authorization,X-Seven', 'X-Varnish': '196074366 510410410, 41161805 927736306, 299942035 1037394880, 770953555 738035058', 'Via': '1.1 varnish (Varnish/5.1), 1.1 varnish (Varnish/5.1), 1.1 varnish (Varnish/5.1), 1.1 varnish (Varnish/5.1)', 'Age': '101508', 'X-Cache': 'cp1087 hit/3, cp2010 hit/2, cp4032 hit/2, cp4030 hit/6', 'X-Cache-Status': 'hit-front', 'Server-Timing': 'cache;desc=\"hit-front\"', 'Strict-Transport-Security': 'max-age=106384710; includeSubDomains; preload', 'Set-Cookie': 'WMF-Last-Access=23-Mar-2019;Path=/;HttpOnly;secure;Expires=Wed, 24 Apr 2019 12:00:00 GMT, WMF-Last-Access-Global=23-Mar-2019;Path=/;Domain=.wikipedia.org;HttpOnly;secure;Expires=Wed, 24 Apr 2019 12:00:00 GMT, GeoIP=CA:BC:Vancouver:49.27:-123.20:v4; Path=/; secure; Domain=.wikipedia.org', 'X-Analytics': 'ns=0;page_id=27818578;https=1;nocookies=1', 'X-Client-IP': '2001:569:7cf3:3600:cdf0:2dd8:1145:5423', 'Cache-Control': 'private, s-maxage=0, max-age=0, must-revalidate', 'Accept-Ranges': 'bytes'}"
      ]
     },
     "execution_count": 18,
     "metadata": {},
     "output_type": "execute_result"
    }
   ],
   "source": [
    "# Headers of the response\n",
    "soccer_requests.headers"
   ]
  },
  {
   "cell_type": "markdown",
   "metadata": {},
   "source": [
    "Lastly, let's access the content of the page:"
   ]
  },
  {
   "cell_type": "code",
   "execution_count": 19,
   "metadata": {},
   "outputs": [],
   "source": [
    "#soccer_requests.text"
   ]
  },
  {
   "cell_type": "markdown",
   "metadata": {},
   "source": [
    "### Beautiful Soup\n",
    "\n",
    "[`BeautifulSoup`](https://www.crummy.com/software/BeautifulSoup/bs4/doc/) is a quite useful package to handle data in HTML format. It has two main functions \n",
    "1. [`BeautifulSoup.find()`](https://www.crummy.com/software/BeautifulSoup/bs4/doc/#find)\n",
    "2. [`BeautifulSoup.find_all()`](https://www.crummy.com/software/BeautifulSoup/bs4/doc/#find-all)\n",
    "\n",
    "There are other functions that might be useful as well (e.g., `find_next_sibling()`, `find_parent()`) \n",
    "\n",
    "Let's starting by importing the library and creating a `BeautifulSoup` object."
   ]
  },
  {
   "cell_type": "code",
   "execution_count": 20,
   "metadata": {},
   "outputs": [],
   "source": [
    "from bs4 import BeautifulSoup"
   ]
  },
  {
   "cell_type": "code",
   "execution_count": 21,
   "metadata": {},
   "outputs": [],
   "source": [
    "# Creating a BeautifulSoup object.\n",
    "soccer = BeautifulSoup(soccer_requests.text) # remember that the field text contains the content of our request"
   ]
  },
  {
   "cell_type": "markdown",
   "metadata": {},
   "source": [
    "Great! Now we have a `BeautifulSoup` object stored in the `soccer` variable. We can now use the function `find_all()` to retrieve information. For example, let's find the tables contained in the page."
   ]
  },
  {
   "cell_type": "code",
   "execution_count": 22,
   "metadata": {
    "scrolled": true
   },
   "outputs": [],
   "source": [
    "tables = soccer.find_all(\"table\")\n",
    "#tables"
   ]
  },
  {
   "cell_type": "markdown",
   "metadata": {},
   "source": [
    "Now we have a list of tables in the web page. Let's scrap the first table - the nations that won the word cup."
   ]
  },
  {
   "cell_type": "code",
   "execution_count": 23,
   "metadata": {},
   "outputs": [
    {
     "data": {
      "text/html": [
       "<div>\n",
       "<style scoped>\n",
       "    .dataframe tbody tr th:only-of-type {\n",
       "        vertical-align: middle;\n",
       "    }\n",
       "\n",
       "    .dataframe tbody tr th {\n",
       "        vertical-align: top;\n",
       "    }\n",
       "\n",
       "    .dataframe thead th {\n",
       "        text-align: right;\n",
       "    }\n",
       "</style>\n",
       "<table border=\"1\" class=\"dataframe\">\n",
       "  <thead>\n",
       "    <tr style=\"text-align: right;\">\n",
       "      <th></th>\n",
       "      <th>n_titles</th>\n",
       "      <th>team</th>\n",
       "      <th>years</th>\n",
       "    </tr>\n",
       "  </thead>\n",
       "  <tbody>\n",
       "    <tr>\n",
       "      <th>0</th>\n",
       "      <td>5\\n</td>\n",
       "      <td>Brazil\\n</td>\n",
       "      <td>1958, 1962, 1970, 1994, 2002\\n</td>\n",
       "    </tr>\n",
       "    <tr>\n",
       "      <th>1</th>\n",
       "      <td>4\\n</td>\n",
       "      <td>Italy\\n</td>\n",
       "      <td>1934, 1938, 1982, 2006\\n</td>\n",
       "    </tr>\n",
       "    <tr>\n",
       "      <th>2</th>\n",
       "      <td>4\\n</td>\n",
       "      <td>Germany[n 1]\\n</td>\n",
       "      <td>1954, 1974, 1990, 2014\\n</td>\n",
       "    </tr>\n",
       "    <tr>\n",
       "      <th>3</th>\n",
       "      <td>2\\n</td>\n",
       "      <td>Uruguay\\n</td>\n",
       "      <td>1930, 1950\\n</td>\n",
       "    </tr>\n",
       "    <tr>\n",
       "      <th>4</th>\n",
       "      <td>2\\n</td>\n",
       "      <td>Argentina\\n</td>\n",
       "      <td>1978, 1986\\n</td>\n",
       "    </tr>\n",
       "    <tr>\n",
       "      <th>5</th>\n",
       "      <td>2\\n</td>\n",
       "      <td>France\\n</td>\n",
       "      <td>1998, 2018\\n</td>\n",
       "    </tr>\n",
       "    <tr>\n",
       "      <th>6</th>\n",
       "      <td>1\\n</td>\n",
       "      <td>England\\n</td>\n",
       "      <td>1966\\n</td>\n",
       "    </tr>\n",
       "    <tr>\n",
       "      <th>7</th>\n",
       "      <td>1\\n</td>\n",
       "      <td>Spain\\n</td>\n",
       "      <td>2010\\n</td>\n",
       "    </tr>\n",
       "  </tbody>\n",
       "</table>\n",
       "</div>"
      ],
      "text/plain": [
       "  n_titles             team                           years\n",
       "0      5\\n         Brazil\\n  1958, 1962, 1970, 1994, 2002\\n\n",
       "1      4\\n          Italy\\n        1934, 1938, 1982, 2006\\n\n",
       "2      4\\n   Germany[n 1]\\n        1954, 1974, 1990, 2014\\n\n",
       "3      2\\n        Uruguay\\n                    1930, 1950\\n\n",
       "4      2\\n      Argentina\\n                    1978, 1986\\n\n",
       "5      2\\n         France\\n                    1998, 2018\\n\n",
       "6      1\\n        England\\n                          1966\\n\n",
       "7      1\\n          Spain\\n                          2010\\n"
      ]
     },
     "execution_count": 23,
     "metadata": {},
     "output_type": "execute_result"
    }
   ],
   "source": [
    "df = pd.DataFrame({\"year\": [], \"Team\": []})\n",
    "row = []\n",
    "df = []\n",
    "for i,entry in enumerate(tables[0].find_all(\"td\")):\n",
    "    row.append(entry.text)\n",
    "    if (i+1)%3 == 0:\n",
    "        df.append(row)\n",
    "        row = []\n",
    "\n",
    "df = pd.DataFrame(df, columns = [\"n_titles\", \"team\", \"years\"])\n",
    "df"
   ]
  },
  {
   "cell_type": "markdown",
   "metadata": {},
   "source": [
    "How cool is that? Of course we need some data cleaning."
   ]
  },
  {
   "cell_type": "code",
   "execution_count": 24,
   "metadata": {},
   "outputs": [
    {
     "data": {
      "text/html": [
       "<div>\n",
       "<style scoped>\n",
       "    .dataframe tbody tr th:only-of-type {\n",
       "        vertical-align: middle;\n",
       "    }\n",
       "\n",
       "    .dataframe tbody tr th {\n",
       "        vertical-align: top;\n",
       "    }\n",
       "\n",
       "    .dataframe thead th {\n",
       "        text-align: right;\n",
       "    }\n",
       "</style>\n",
       "<table border=\"1\" class=\"dataframe\">\n",
       "  <thead>\n",
       "    <tr style=\"text-align: right;\">\n",
       "      <th></th>\n",
       "      <th>n_titles</th>\n",
       "      <th>team</th>\n",
       "      <th>years</th>\n",
       "    </tr>\n",
       "  </thead>\n",
       "  <tbody>\n",
       "    <tr>\n",
       "      <th>0</th>\n",
       "      <td>5</td>\n",
       "      <td>Brazil</td>\n",
       "      <td>1958, 1962, 1970, 1994, 2002</td>\n",
       "    </tr>\n",
       "    <tr>\n",
       "      <th>1</th>\n",
       "      <td>4</td>\n",
       "      <td>Italy</td>\n",
       "      <td>1934, 1938, 1982, 2006</td>\n",
       "    </tr>\n",
       "    <tr>\n",
       "      <th>2</th>\n",
       "      <td>4</td>\n",
       "      <td>Germany</td>\n",
       "      <td>1954, 1974, 1990, 2014</td>\n",
       "    </tr>\n",
       "    <tr>\n",
       "      <th>3</th>\n",
       "      <td>2</td>\n",
       "      <td>Uruguay</td>\n",
       "      <td>1930, 1950</td>\n",
       "    </tr>\n",
       "    <tr>\n",
       "      <th>4</th>\n",
       "      <td>2</td>\n",
       "      <td>Argentina</td>\n",
       "      <td>1978, 1986</td>\n",
       "    </tr>\n",
       "    <tr>\n",
       "      <th>5</th>\n",
       "      <td>2</td>\n",
       "      <td>France</td>\n",
       "      <td>1998, 2018</td>\n",
       "    </tr>\n",
       "    <tr>\n",
       "      <th>6</th>\n",
       "      <td>1</td>\n",
       "      <td>England</td>\n",
       "      <td>1966</td>\n",
       "    </tr>\n",
       "    <tr>\n",
       "      <th>7</th>\n",
       "      <td>1</td>\n",
       "      <td>Spain</td>\n",
       "      <td>2010</td>\n",
       "    </tr>\n",
       "  </tbody>\n",
       "</table>\n",
       "</div>"
      ],
      "text/plain": [
       "  n_titles        team                         years\n",
       "0        5      Brazil  1958, 1962, 1970, 1994, 2002\n",
       "1        4       Italy        1934, 1938, 1982, 2006\n",
       "2        4     Germany        1954, 1974, 1990, 2014\n",
       "3        2     Uruguay                    1930, 1950\n",
       "4        2   Argentina                    1978, 1986\n",
       "5        2      France                    1998, 2018\n",
       "6        1     England                          1966\n",
       "7        1       Spain                          2010"
      ]
     },
     "execution_count": 24,
     "metadata": {},
     "output_type": "execute_result"
    }
   ],
   "source": [
    "df = df.replace(\"\\n\",\"\", regex=True)\n",
    "df = df.replace(\"\\[[A-Za-z0-9 ]*\\]\",\"\", regex=True)\n",
    "df"
   ]
  },
  {
   "cell_type": "markdown",
   "metadata": {},
   "source": [
    "As we can see, Brazil has the highest number of World Cup titles in the world. YEAH, yeah! Don't get upset, Canada would crush us in Hockey (I don't know if we even have a team!). We could keep manipulating this dataframe, but let's keep our focus on scrapping data. Let's get the names of the players that won the world cup, which are present in the third table of the wiki-page."
   ]
  },
  {
   "cell_type": "code",
   "execution_count": 25,
   "metadata": {},
   "outputs": [],
   "source": [
    "#tables[2]"
   ]
  },
  {
   "cell_type": "code",
   "execution_count": 26,
   "metadata": {},
   "outputs": [],
   "source": [
    "players = []\n",
    "teams = []\n",
    "for entry in tables[2].find_all(\"td\"):\n",
    "    if entry.has_attr(\"data-sort-value\"): # Note the function I'm using here: has_attr()\n",
    "        players.append(entry.text)\n",
    "        \n",
    "players = pd.Series(players, name='Player').str.replace(\"\\n\",\"\")\n",
    "#players"
   ]
  },
  {
   "cell_type": "markdown",
   "metadata": {},
   "source": [
    "But why are we doing this? Isn't easier to just copy the table directly from the page? Well, if you have only one table, it would be. But say that you want the date of birth of all these players that won the word cup. This information is not present in the table, so we need to gather from somewhere else. However, the table does provide us with the link for the wiki-page of each one of those players. We just need to go there and gather that information. Doing it manually for the 510 players would be annoying, right? \n",
    "\n",
    "Well, this could take a while since there are 510 players, but let's do for the first 25 players just so we get a taste."
   ]
  },
  {
   "cell_type": "code",
   "execution_count": 27,
   "metadata": {},
   "outputs": [],
   "source": [
    "url = \"https://en.wikipedia.org\"\n",
    "bday = []\n",
    "for name in players[0:25]:\n",
    "    player_pg = requests.get(url+tables[2].find(\"a\", text=name)[\"href\"])\n",
    "    player_pg = BeautifulSoup(player_pg.text)\n",
    "    try:\n",
    "        bday.append(player_pg.find(\"span\", {\"class\":\"bday\"}).text)\n",
    "    except:\n",
    "        bday.append(player_pg.find(\"th\", text=\"Date of birth\").next_sibling.text)\n",
    "    time.sleep(.5)"
   ]
  },
  {
   "cell_type": "markdown",
   "metadata": {},
   "source": [
    "Why did I add a `time.sleep` in the code? It is to give some time to the server. We want to be polite and not overload the server with too many requests in a short time. You need to be aware of that. If you are dealing with a small server, you could cause real problems. Besides, you could get blocked. Wikipedia is a very big server, and we aren't requesting that many pages, so we should be fine here. But always keep this in mind. \n",
    "\n",
    "Now, let's check the date of birth of the first 25 players."
   ]
  },
  {
   "cell_type": "code",
   "execution_count": 28,
   "metadata": {},
   "outputs": [
    {
     "data": {
      "text/html": [
       "<div>\n",
       "<style scoped>\n",
       "    .dataframe tbody tr th:only-of-type {\n",
       "        vertical-align: middle;\n",
       "    }\n",
       "\n",
       "    .dataframe tbody tr th {\n",
       "        vertical-align: top;\n",
       "    }\n",
       "\n",
       "    .dataframe thead th {\n",
       "        text-align: right;\n",
       "    }\n",
       "</style>\n",
       "<table border=\"1\" class=\"dataframe\">\n",
       "  <thead>\n",
       "    <tr style=\"text-align: right;\">\n",
       "      <th></th>\n",
       "      <th>Player</th>\n",
       "      <th>bday</th>\n",
       "    </tr>\n",
       "  </thead>\n",
       "  <tbody>\n",
       "    <tr>\n",
       "      <th>0</th>\n",
       "      <td>Pelé</td>\n",
       "      <td>1940-10-23</td>\n",
       "    </tr>\n",
       "    <tr>\n",
       "      <th>1</th>\n",
       "      <td>Hilderaldo Bellini</td>\n",
       "      <td>1930-06-07</td>\n",
       "    </tr>\n",
       "    <tr>\n",
       "      <th>2</th>\n",
       "      <td>Cafu</td>\n",
       "      <td>1970-06-07</td>\n",
       "    </tr>\n",
       "    <tr>\n",
       "      <th>3</th>\n",
       "      <td>Castilho</td>\n",
       "      <td>1932-11-27</td>\n",
       "    </tr>\n",
       "    <tr>\n",
       "      <th>4</th>\n",
       "      <td>Didi</td>\n",
       "      <td>1928-10-08</td>\n",
       "    </tr>\n",
       "    <tr>\n",
       "      <th>5</th>\n",
       "      <td>Djalma Santos</td>\n",
       "      <td>1929-02-27</td>\n",
       "    </tr>\n",
       "    <tr>\n",
       "      <th>6</th>\n",
       "      <td>Giovanni Ferrari</td>\n",
       "      <td>1907-12-06</td>\n",
       "    </tr>\n",
       "    <tr>\n",
       "      <th>7</th>\n",
       "      <td>Garrincha</td>\n",
       "      <td>1933-10-28</td>\n",
       "    </tr>\n",
       "    <tr>\n",
       "      <th>8</th>\n",
       "      <td>Gilmar</td>\n",
       "      <td>1930-08-22</td>\n",
       "    </tr>\n",
       "    <tr>\n",
       "      <th>9</th>\n",
       "      <td>Guido Masetti</td>\n",
       "      <td>1907-11-22</td>\n",
       "    </tr>\n",
       "    <tr>\n",
       "      <th>10</th>\n",
       "      <td>Mauro</td>\n",
       "      <td>1930-08-30</td>\n",
       "    </tr>\n",
       "    <tr>\n",
       "      <th>11</th>\n",
       "      <td>Giuseppe Meazza</td>\n",
       "      <td>1910-08-23</td>\n",
       "    </tr>\n",
       "    <tr>\n",
       "      <th>12</th>\n",
       "      <td>Eraldo Monzeglio</td>\n",
       "      <td>1906-06-05</td>\n",
       "    </tr>\n",
       "    <tr>\n",
       "      <th>13</th>\n",
       "      <td>Nílton Santos</td>\n",
       "      <td>1925-05-16</td>\n",
       "    </tr>\n",
       "    <tr>\n",
       "      <th>14</th>\n",
       "      <td>Daniel Passarella</td>\n",
       "      <td>1953-05-25</td>\n",
       "    </tr>\n",
       "    <tr>\n",
       "      <th>15</th>\n",
       "      <td>Pepe</td>\n",
       "      <td>1935-02-25</td>\n",
       "    </tr>\n",
       "    <tr>\n",
       "      <th>16</th>\n",
       "      <td>Ronaldo</td>\n",
       "      <td>1976-09-18</td>\n",
       "    </tr>\n",
       "    <tr>\n",
       "      <th>17</th>\n",
       "      <td>Vavá</td>\n",
       "      <td>1934-11-12</td>\n",
       "    </tr>\n",
       "    <tr>\n",
       "      <th>18</th>\n",
       "      <td>Mário Zagallo</td>\n",
       "      <td>1931-08-09</td>\n",
       "    </tr>\n",
       "    <tr>\n",
       "      <th>19</th>\n",
       "      <td>Zito</td>\n",
       "      <td>\\n8 August 1932</td>\n",
       "    </tr>\n",
       "    <tr>\n",
       "      <th>20</th>\n",
       "      <td>Zózimo</td>\n",
       "      <td>1932-06-19</td>\n",
       "    </tr>\n",
       "    <tr>\n",
       "      <th>21</th>\n",
       "      <td>Ado</td>\n",
       "      <td>1946-07-04</td>\n",
       "    </tr>\n",
       "    <tr>\n",
       "      <th>22</th>\n",
       "      <td>Raúl Albiol</td>\n",
       "      <td>1985-09-04</td>\n",
       "    </tr>\n",
       "    <tr>\n",
       "      <th>23</th>\n",
       "      <td>Aldair</td>\n",
       "      <td>1965-11-30</td>\n",
       "    </tr>\n",
       "    <tr>\n",
       "      <th>24</th>\n",
       "      <td>Luigi Allemandi</td>\n",
       "      <td>1903-11-08</td>\n",
       "    </tr>\n",
       "  </tbody>\n",
       "</table>\n",
       "</div>"
      ],
      "text/plain": [
       "                Player             bday\n",
       "0                 Pelé       1940-10-23\n",
       "1   Hilderaldo Bellini       1930-06-07\n",
       "2                 Cafu       1970-06-07\n",
       "3             Castilho       1932-11-27\n",
       "4                 Didi       1928-10-08\n",
       "5        Djalma Santos       1929-02-27\n",
       "6     Giovanni Ferrari       1907-12-06\n",
       "7            Garrincha       1933-10-28\n",
       "8               Gilmar       1930-08-22\n",
       "9        Guido Masetti       1907-11-22\n",
       "10               Mauro       1930-08-30\n",
       "11     Giuseppe Meazza       1910-08-23\n",
       "12    Eraldo Monzeglio       1906-06-05\n",
       "13       Nílton Santos       1925-05-16\n",
       "14   Daniel Passarella       1953-05-25\n",
       "15                Pepe       1935-02-25\n",
       "16             Ronaldo       1976-09-18\n",
       "17                Vavá       1934-11-12\n",
       "18       Mário Zagallo       1931-08-09\n",
       "19                Zito  \\n8 August 1932\n",
       "20              Zózimo       1932-06-19\n",
       "21                 Ado       1946-07-04\n",
       "22         Raúl Albiol       1985-09-04\n",
       "23              Aldair       1965-11-30\n",
       "24     Luigi Allemandi       1903-11-08"
      ]
     },
     "execution_count": 28,
     "metadata": {},
     "output_type": "execute_result"
    }
   ],
   "source": [
    "players_won_world_cup = pd.concat([players[0:25],pd.Series(bday, name=\"bday\")], axis=1)\n",
    "players_won_world_cup"
   ]
  },
  {
   "cell_type": "markdown",
   "metadata": {},
   "source": [
    "Cool, right? \n",
    "One last thing before you start: your browser's developer tools is your ally in navigating a website structure. \n",
    "\n",
    "Finally, let's begin your assigment."
   ]
  },
  {
   "cell_type": "markdown",
   "metadata": {},
   "source": [
    "# Exercise 1: Creating a prerequisite diagram\n",
    "rubric={accuracy:35,viz:15}\n",
    "\n",
    "Below is a prerequisite chart for the 25 MDS courses:\n",
    "\n",
    "![](MDS-prereq2.png)\n",
    "\n",
    "In this assignment, you will reproduce this graph, or something very similar, by scraping the prerequisite info from https://courses.students.ubc.ca/cs/main?pname=subjarea&tname=subjareas&req=1&dept=DSCI.\n",
    "\n",
    "In this assignment, you will implement a simple crawler to crawl and scrape UBC SSC web pages to grab your course schedule. Here are the steps of what you have to do:\n",
    "\n",
    "1. Request the url https://courses.students.ubc.ca/cs/main?pname=subjarea&tname=subjareas&req=1&dept=DSCI;\n",
    "2. Create a `BeautifulSoup` object from the retrieved webpage;\n",
    "3. Now, for each one of the courses in the page:\n",
    "    1. obtain the respective link;\n",
    "    2. retrieve the pre-reqs;"
   ]
  },
  {
   "cell_type": "code",
   "execution_count": 29,
   "metadata": {},
   "outputs": [],
   "source": [
    "# TODO"
   ]
  },
  {
   "cell_type": "markdown",
   "metadata": {},
   "source": [
    "# Task  A"
   ]
  },
  {
   "cell_type": "code",
   "execution_count": 30,
   "metadata": {},
   "outputs": [],
   "source": [
    "mds_request=requests.get('https://courses.students.ubc.ca/cs/courseschedule?pname=subjarea&tname=subj-department&dept=DSCI')\n",
    "mds=BeautifulSoup(mds_request.text)"
   ]
  },
  {
   "cell_type": "code",
   "execution_count": 31,
   "metadata": {},
   "outputs": [],
   "source": [
    "prereqs=pd.DataFrame({'CourseName':[],'Url':[]})\n",
    "url_start='https://courses.students.ubc.ca'\n",
    "url_long=[]\n",
    "course_num=[]\n",
    "course_name=[]\n",
    "for nam in mds.find_all('td'):\n",
    "    url=[]\n",
    "    level= nam.find_all('a')\n",
    "    if not level:\n",
    "        course_name.append(nam.text);\n",
    "    else :\n",
    "        url.append(url_start+level[0]['href'])\n",
    "        course_num.append(level[0].text)\n",
    "        url_long.append(url[0])    \n",
    "\n",
    "final_df=pd.DataFrame({'Course Number': course_num,'Course Name':course_name[0:len(url_long)],'URL':url_long})\n"
   ]
  },
  {
   "cell_type": "code",
   "execution_count": 32,
   "metadata": {},
   "outputs": [
    {
     "data": {
      "text/plain": [
       "[<td><a href=\"/cs/courseschedule?pname=subjarea&amp;tname=subj-course&amp;dept=DSCI&amp;course=100\">DSCI 100</a></td>,\n",
       " <td>Introduction to Data Science</td>,\n",
       " <td><a href=\"/cs/courseschedule?pname=subjarea&amp;tname=subj-course&amp;dept=DSCI&amp;course=511\">DSCI 511</a></td>,\n",
       " <td>Programming for Data Science</td>,\n",
       " <td><a href=\"/cs/courseschedule?pname=subjarea&amp;tname=subj-course&amp;dept=DSCI&amp;course=512\">DSCI 512</a></td>,\n",
       " <td>Algorithms and Data Structures</td>,\n",
       " <td><a href=\"/cs/courseschedule?pname=subjarea&amp;tname=subj-course&amp;dept=DSCI&amp;course=513\">DSCI 513</a></td>,\n",
       " <td>Databases and Data Retrieval</td>,\n",
       " <td><a href=\"/cs/courseschedule?pname=subjarea&amp;tname=subj-course&amp;dept=DSCI&amp;course=521\">DSCI 521</a></td>,\n",
       " <td>Computing Platforms for Data Science</td>,\n",
       " <td><a href=\"/cs/courseschedule?pname=subjarea&amp;tname=subj-course&amp;dept=DSCI&amp;course=522\">DSCI 522</a></td>,\n",
       " <td>Data Science Workflows</td>,\n",
       " <td><a href=\"/cs/courseschedule?pname=subjarea&amp;tname=subj-course&amp;dept=DSCI&amp;course=523\">DSCI 523</a></td>,\n",
       " <td>Data Wrangling</td>,\n",
       " <td><a href=\"/cs/courseschedule?pname=subjarea&amp;tname=subj-course&amp;dept=DSCI&amp;course=524\">DSCI 524</a></td>,\n",
       " <td>Collaborative Software Development</td>,\n",
       " <td><a href=\"/cs/courseschedule?pname=subjarea&amp;tname=subj-course&amp;dept=DSCI&amp;course=525\">DSCI 525</a></td>,\n",
       " <td>Web and Cloud Computing</td>,\n",
       " <td><a href=\"/cs/courseschedule?pname=subjarea&amp;tname=subj-course&amp;dept=DSCI&amp;course=531\">DSCI 531</a></td>,\n",
       " <td>Data Visualization I</td>,\n",
       " <td><a href=\"/cs/courseschedule?pname=subjarea&amp;tname=subj-course&amp;dept=DSCI&amp;course=532\">DSCI 532</a></td>,\n",
       " <td>Data Visualization II</td>,\n",
       " <td><a href=\"/cs/courseschedule?pname=subjarea&amp;tname=subj-course&amp;dept=DSCI&amp;course=541\">DSCI 541</a></td>,\n",
       " <td>Privacy, Ethics, and Security</td>,\n",
       " <td><a href=\"/cs/courseschedule?pname=subjarea&amp;tname=subj-course&amp;dept=DSCI&amp;course=542\">DSCI 542</a></td>,\n",
       " <td>Communication and Argumentation</td>,\n",
       " <td><a href=\"/cs/courseschedule?pname=subjarea&amp;tname=subj-course&amp;dept=DSCI&amp;course=551\">DSCI 551</a></td>,\n",
       " <td>Descriptive Statistics and Probability for Data Science</td>,\n",
       " <td><a href=\"/cs/courseschedule?pname=subjarea&amp;tname=subj-course&amp;dept=DSCI&amp;course=552\">DSCI 552</a></td>,\n",
       " <td>Statistical Inference and Computation I</td>,\n",
       " <td><a href=\"/cs/courseschedule?pname=subjarea&amp;tname=subj-course&amp;dept=DSCI&amp;course=553\">DSCI 553</a></td>,\n",
       " <td>Statistical Inference and Computation II</td>,\n",
       " <td><a href=\"/cs/courseschedule?pname=subjarea&amp;tname=subj-course&amp;dept=DSCI&amp;course=554\">DSCI 554</a></td>,\n",
       " <td>Experimentation and Causal Inference</td>,\n",
       " <td><a href=\"/cs/courseschedule?pname=subjarea&amp;tname=subj-course&amp;dept=DSCI&amp;course=561\">DSCI 561</a></td>,\n",
       " <td>Regression I</td>,\n",
       " <td><a href=\"/cs/courseschedule?pname=subjarea&amp;tname=subj-course&amp;dept=DSCI&amp;course=562\">DSCI 562</a></td>,\n",
       " <td>Regression II</td>,\n",
       " <td><a href=\"/cs/courseschedule?pname=subjarea&amp;tname=subj-course&amp;dept=DSCI&amp;course=563\">DSCI 563</a></td>,\n",
       " <td>Unsupervised Learning</td>,\n",
       " <td><a href=\"/cs/courseschedule?pname=subjarea&amp;tname=subj-course&amp;dept=DSCI&amp;course=571\">DSCI 571</a></td>,\n",
       " <td>Supervised Learning I</td>,\n",
       " <td><a href=\"/cs/courseschedule?pname=subjarea&amp;tname=subj-course&amp;dept=DSCI&amp;course=572\">DSCI 572</a></td>,\n",
       " <td>Supervised Learning II</td>,\n",
       " <td><a href=\"/cs/courseschedule?pname=subjarea&amp;tname=subj-course&amp;dept=DSCI&amp;course=573\">DSCI 573</a></td>,\n",
       " <td>Feature and Model Selection</td>,\n",
       " <td><a href=\"/cs/courseschedule?pname=subjarea&amp;tname=subj-course&amp;dept=DSCI&amp;course=574\">DSCI 574</a></td>,\n",
       " <td>Spatial and Temporal Models</td>,\n",
       " <td><a href=\"/cs/courseschedule?pname=subjarea&amp;tname=subj-course&amp;dept=DSCI&amp;course=575\">DSCI 575</a></td>,\n",
       " <td>Advanced Machine Learning</td>,\n",
       " <td><a href=\"/cs/courseschedule?pname=subjarea&amp;tname=subj-course&amp;dept=DSCI&amp;course=591\">DSCI 591</a></td>,\n",
       " <td>Capstone Project</td>,\n",
       " <td id=\"helpContent\"> </td>,\n",
       " <td>\n",
       " <div style=\"font-size:6pt;padding:2px;border:solid black 1px\">\n",
       " <span id=\"box1\">   </span>\n",
       " <span id=\"box2\">   </span>\n",
       " <span id=\"box3\">   </span>\n",
       " <span id=\"box4\">   </span>\n",
       " <span id=\"box5\">   </span>\n",
       " <span id=\"box6\">   </span>\n",
       " <span id=\"box7\">   </span>\n",
       " <span id=\"box8\">   </span>\n",
       " <span id=\"box9\">   </span>\n",
       " <span id=\"box10\">   </span>\n",
       " <span id=\"box11\">   </span>\n",
       " </div>\n",
       " </td>]"
      ]
     },
     "execution_count": 32,
     "metadata": {},
     "output_type": "execute_result"
    }
   ],
   "source": [
    "mds.find_all('td')"
   ]
  },
  {
   "cell_type": "markdown",
   "metadata": {},
   "source": []
  },
  {
   "cell_type": "code",
   "execution_count": 33,
   "metadata": {},
   "outputs": [],
   "source": [
    "req=[]\n",
    "for ii in range(len(final_df['URL'])):\n",
    "    prep=BeautifulSoup(requests.get(final_df.loc[ii,'URL']).text)\n",
    "\n",
    "    alt = prep.find(\"div\", {\"class\":\"content expand\"})\n",
    "    m=alt.find_all('p')\n",
    "    prereq=[]\n",
    "    for i in m:\n",
    "        for k in i.find_all('a'):\n",
    "            prereq.append(k.text)\n",
    "    req.append(prereq)\n",
    "final_df['Pre_Req']=req   "
   ]
  },
  {
   "cell_type": "code",
   "execution_count": 34,
   "metadata": {},
   "outputs": [
    {
     "data": {
      "text/html": [
       "<div>\n",
       "<style scoped>\n",
       "    .dataframe tbody tr th:only-of-type {\n",
       "        vertical-align: middle;\n",
       "    }\n",
       "\n",
       "    .dataframe tbody tr th {\n",
       "        vertical-align: top;\n",
       "    }\n",
       "\n",
       "    .dataframe thead th {\n",
       "        text-align: right;\n",
       "    }\n",
       "</style>\n",
       "<table border=\"1\" class=\"dataframe\">\n",
       "  <thead>\n",
       "    <tr style=\"text-align: right;\">\n",
       "      <th></th>\n",
       "      <th>Course Number</th>\n",
       "      <th>Course Name</th>\n",
       "      <th>URL</th>\n",
       "      <th>Pre_Req</th>\n",
       "    </tr>\n",
       "  </thead>\n",
       "  <tbody>\n",
       "    <tr>\n",
       "      <th>0</th>\n",
       "      <td>DSCI 100</td>\n",
       "      <td>Introduction to Data Science</td>\n",
       "      <td>https://courses.students.ubc.ca/cs/coursesched...</td>\n",
       "      <td>[]</td>\n",
       "    </tr>\n",
       "    <tr>\n",
       "      <th>1</th>\n",
       "      <td>DSCI 511</td>\n",
       "      <td>Programming for Data Science</td>\n",
       "      <td>https://courses.students.ubc.ca/cs/coursesched...</td>\n",
       "      <td>[]</td>\n",
       "    </tr>\n",
       "    <tr>\n",
       "      <th>2</th>\n",
       "      <td>DSCI 512</td>\n",
       "      <td>Algorithms and Data Structures</td>\n",
       "      <td>https://courses.students.ubc.ca/cs/coursesched...</td>\n",
       "      <td>[DSCI 511, DSCI 521]</td>\n",
       "    </tr>\n",
       "    <tr>\n",
       "      <th>3</th>\n",
       "      <td>DSCI 513</td>\n",
       "      <td>Databases and Data Retrieval</td>\n",
       "      <td>https://courses.students.ubc.ca/cs/coursesched...</td>\n",
       "      <td>[]</td>\n",
       "    </tr>\n",
       "    <tr>\n",
       "      <th>4</th>\n",
       "      <td>DSCI 521</td>\n",
       "      <td>Computing Platforms for Data Science</td>\n",
       "      <td>https://courses.students.ubc.ca/cs/coursesched...</td>\n",
       "      <td>[]</td>\n",
       "    </tr>\n",
       "    <tr>\n",
       "      <th>5</th>\n",
       "      <td>DSCI 522</td>\n",
       "      <td>Data Science Workflows</td>\n",
       "      <td>https://courses.students.ubc.ca/cs/coursesched...</td>\n",
       "      <td>[DSCI 511, DSCI 521]</td>\n",
       "    </tr>\n",
       "    <tr>\n",
       "      <th>6</th>\n",
       "      <td>DSCI 523</td>\n",
       "      <td>Data Wrangling</td>\n",
       "      <td>https://courses.students.ubc.ca/cs/coursesched...</td>\n",
       "      <td>[DSCI 511, DSCI 521]</td>\n",
       "    </tr>\n",
       "    <tr>\n",
       "      <th>7</th>\n",
       "      <td>DSCI 524</td>\n",
       "      <td>Collaborative Software Development</td>\n",
       "      <td>https://courses.students.ubc.ca/cs/coursesched...</td>\n",
       "      <td>[DSCI 522]</td>\n",
       "    </tr>\n",
       "    <tr>\n",
       "      <th>8</th>\n",
       "      <td>DSCI 525</td>\n",
       "      <td>Web and Cloud Computing</td>\n",
       "      <td>https://courses.students.ubc.ca/cs/coursesched...</td>\n",
       "      <td>[DSCI 522, DSCI 523]</td>\n",
       "    </tr>\n",
       "    <tr>\n",
       "      <th>9</th>\n",
       "      <td>DSCI 531</td>\n",
       "      <td>Data Visualization I</td>\n",
       "      <td>https://courses.students.ubc.ca/cs/coursesched...</td>\n",
       "      <td>[DSCI 511, DSCI 521]</td>\n",
       "    </tr>\n",
       "    <tr>\n",
       "      <th>10</th>\n",
       "      <td>DSCI 532</td>\n",
       "      <td>Data Visualization II</td>\n",
       "      <td>https://courses.students.ubc.ca/cs/coursesched...</td>\n",
       "      <td>[DSCI 531]</td>\n",
       "    </tr>\n",
       "    <tr>\n",
       "      <th>11</th>\n",
       "      <td>DSCI 541</td>\n",
       "      <td>Privacy, Ethics, and Security</td>\n",
       "      <td>https://courses.students.ubc.ca/cs/coursesched...</td>\n",
       "      <td>[]</td>\n",
       "    </tr>\n",
       "    <tr>\n",
       "      <th>12</th>\n",
       "      <td>DSCI 542</td>\n",
       "      <td>Communication and Argumentation</td>\n",
       "      <td>https://courses.students.ubc.ca/cs/coursesched...</td>\n",
       "      <td>[]</td>\n",
       "    </tr>\n",
       "    <tr>\n",
       "      <th>13</th>\n",
       "      <td>DSCI 551</td>\n",
       "      <td>Descriptive Statistics and Probability for Dat...</td>\n",
       "      <td>https://courses.students.ubc.ca/cs/coursesched...</td>\n",
       "      <td>[]</td>\n",
       "    </tr>\n",
       "    <tr>\n",
       "      <th>14</th>\n",
       "      <td>DSCI 552</td>\n",
       "      <td>Statistical Inference and Computation I</td>\n",
       "      <td>https://courses.students.ubc.ca/cs/coursesched...</td>\n",
       "      <td>[DSCI 551]</td>\n",
       "    </tr>\n",
       "    <tr>\n",
       "      <th>15</th>\n",
       "      <td>DSCI 553</td>\n",
       "      <td>Statistical Inference and Computation II</td>\n",
       "      <td>https://courses.students.ubc.ca/cs/coursesched...</td>\n",
       "      <td>[DSCI 552]</td>\n",
       "    </tr>\n",
       "    <tr>\n",
       "      <th>16</th>\n",
       "      <td>DSCI 554</td>\n",
       "      <td>Experimentation and Causal Inference</td>\n",
       "      <td>https://courses.students.ubc.ca/cs/coursesched...</td>\n",
       "      <td>[DSCI 553, DSCI 561]</td>\n",
       "    </tr>\n",
       "    <tr>\n",
       "      <th>17</th>\n",
       "      <td>DSCI 561</td>\n",
       "      <td>Regression I</td>\n",
       "      <td>https://courses.students.ubc.ca/cs/coursesched...</td>\n",
       "      <td>[DSCI 552]</td>\n",
       "    </tr>\n",
       "    <tr>\n",
       "      <th>18</th>\n",
       "      <td>DSCI 562</td>\n",
       "      <td>Regression II</td>\n",
       "      <td>https://courses.students.ubc.ca/cs/coursesched...</td>\n",
       "      <td>[DSCI 561]</td>\n",
       "    </tr>\n",
       "    <tr>\n",
       "      <th>19</th>\n",
       "      <td>DSCI 563</td>\n",
       "      <td>Unsupervised Learning</td>\n",
       "      <td>https://courses.students.ubc.ca/cs/coursesched...</td>\n",
       "      <td>[DSCI 511, DSCI 521]</td>\n",
       "    </tr>\n",
       "    <tr>\n",
       "      <th>20</th>\n",
       "      <td>DSCI 571</td>\n",
       "      <td>Supervised Learning I</td>\n",
       "      <td>https://courses.students.ubc.ca/cs/coursesched...</td>\n",
       "      <td>[DSCI 511, DSCI 521]</td>\n",
       "    </tr>\n",
       "    <tr>\n",
       "      <th>21</th>\n",
       "      <td>DSCI 572</td>\n",
       "      <td>Supervised Learning II</td>\n",
       "      <td>https://courses.students.ubc.ca/cs/coursesched...</td>\n",
       "      <td>[DSCI 571]</td>\n",
       "    </tr>\n",
       "    <tr>\n",
       "      <th>22</th>\n",
       "      <td>DSCI 573</td>\n",
       "      <td>Feature and Model Selection</td>\n",
       "      <td>https://courses.students.ubc.ca/cs/coursesched...</td>\n",
       "      <td>[DSCI 571]</td>\n",
       "    </tr>\n",
       "    <tr>\n",
       "      <th>23</th>\n",
       "      <td>DSCI 574</td>\n",
       "      <td>Spatial and Temporal Models</td>\n",
       "      <td>https://courses.students.ubc.ca/cs/coursesched...</td>\n",
       "      <td>[DSCI 572]</td>\n",
       "    </tr>\n",
       "    <tr>\n",
       "      <th>24</th>\n",
       "      <td>DSCI 575</td>\n",
       "      <td>Advanced Machine Learning</td>\n",
       "      <td>https://courses.students.ubc.ca/cs/coursesched...</td>\n",
       "      <td>[DSCI 572]</td>\n",
       "    </tr>\n",
       "    <tr>\n",
       "      <th>25</th>\n",
       "      <td>DSCI 591</td>\n",
       "      <td>Capstone Project</td>\n",
       "      <td>https://courses.students.ubc.ca/cs/coursesched...</td>\n",
       "      <td>[DSCI 513, DSCI 524, DSCI 525, DSCI 532, DSCI ...</td>\n",
       "    </tr>\n",
       "  </tbody>\n",
       "</table>\n",
       "</div>"
      ],
      "text/plain": [
       "   Course Number                                        Course Name  \\\n",
       "0       DSCI 100                       Introduction to Data Science   \n",
       "1       DSCI 511                       Programming for Data Science   \n",
       "2       DSCI 512                     Algorithms and Data Structures   \n",
       "3       DSCI 513                       Databases and Data Retrieval   \n",
       "4       DSCI 521               Computing Platforms for Data Science   \n",
       "5       DSCI 522                             Data Science Workflows   \n",
       "6       DSCI 523                                     Data Wrangling   \n",
       "7       DSCI 524                 Collaborative Software Development   \n",
       "8       DSCI 525                            Web and Cloud Computing   \n",
       "9       DSCI 531                               Data Visualization I   \n",
       "10      DSCI 532                              Data Visualization II   \n",
       "11      DSCI 541                      Privacy, Ethics, and Security   \n",
       "12      DSCI 542                    Communication and Argumentation   \n",
       "13      DSCI 551  Descriptive Statistics and Probability for Dat...   \n",
       "14      DSCI 552            Statistical Inference and Computation I   \n",
       "15      DSCI 553           Statistical Inference and Computation II   \n",
       "16      DSCI 554               Experimentation and Causal Inference   \n",
       "17      DSCI 561                                       Regression I   \n",
       "18      DSCI 562                                      Regression II   \n",
       "19      DSCI 563                              Unsupervised Learning   \n",
       "20      DSCI 571                              Supervised Learning I   \n",
       "21      DSCI 572                             Supervised Learning II   \n",
       "22      DSCI 573                        Feature and Model Selection   \n",
       "23      DSCI 574                        Spatial and Temporal Models   \n",
       "24      DSCI 575                          Advanced Machine Learning   \n",
       "25      DSCI 591                                   Capstone Project   \n",
       "\n",
       "                                                  URL  \\\n",
       "0   https://courses.students.ubc.ca/cs/coursesched...   \n",
       "1   https://courses.students.ubc.ca/cs/coursesched...   \n",
       "2   https://courses.students.ubc.ca/cs/coursesched...   \n",
       "3   https://courses.students.ubc.ca/cs/coursesched...   \n",
       "4   https://courses.students.ubc.ca/cs/coursesched...   \n",
       "5   https://courses.students.ubc.ca/cs/coursesched...   \n",
       "6   https://courses.students.ubc.ca/cs/coursesched...   \n",
       "7   https://courses.students.ubc.ca/cs/coursesched...   \n",
       "8   https://courses.students.ubc.ca/cs/coursesched...   \n",
       "9   https://courses.students.ubc.ca/cs/coursesched...   \n",
       "10  https://courses.students.ubc.ca/cs/coursesched...   \n",
       "11  https://courses.students.ubc.ca/cs/coursesched...   \n",
       "12  https://courses.students.ubc.ca/cs/coursesched...   \n",
       "13  https://courses.students.ubc.ca/cs/coursesched...   \n",
       "14  https://courses.students.ubc.ca/cs/coursesched...   \n",
       "15  https://courses.students.ubc.ca/cs/coursesched...   \n",
       "16  https://courses.students.ubc.ca/cs/coursesched...   \n",
       "17  https://courses.students.ubc.ca/cs/coursesched...   \n",
       "18  https://courses.students.ubc.ca/cs/coursesched...   \n",
       "19  https://courses.students.ubc.ca/cs/coursesched...   \n",
       "20  https://courses.students.ubc.ca/cs/coursesched...   \n",
       "21  https://courses.students.ubc.ca/cs/coursesched...   \n",
       "22  https://courses.students.ubc.ca/cs/coursesched...   \n",
       "23  https://courses.students.ubc.ca/cs/coursesched...   \n",
       "24  https://courses.students.ubc.ca/cs/coursesched...   \n",
       "25  https://courses.students.ubc.ca/cs/coursesched...   \n",
       "\n",
       "                                              Pre_Req  \n",
       "0                                                  []  \n",
       "1                                                  []  \n",
       "2                                [DSCI 511, DSCI 521]  \n",
       "3                                                  []  \n",
       "4                                                  []  \n",
       "5                                [DSCI 511, DSCI 521]  \n",
       "6                                [DSCI 511, DSCI 521]  \n",
       "7                                          [DSCI 522]  \n",
       "8                                [DSCI 522, DSCI 523]  \n",
       "9                                [DSCI 511, DSCI 521]  \n",
       "10                                         [DSCI 531]  \n",
       "11                                                 []  \n",
       "12                                                 []  \n",
       "13                                                 []  \n",
       "14                                         [DSCI 551]  \n",
       "15                                         [DSCI 552]  \n",
       "16                               [DSCI 553, DSCI 561]  \n",
       "17                                         [DSCI 552]  \n",
       "18                                         [DSCI 561]  \n",
       "19                               [DSCI 511, DSCI 521]  \n",
       "20                               [DSCI 511, DSCI 521]  \n",
       "21                                         [DSCI 571]  \n",
       "22                                         [DSCI 571]  \n",
       "23                                         [DSCI 572]  \n",
       "24                                         [DSCI 572]  \n",
       "25  [DSCI 513, DSCI 524, DSCI 525, DSCI 532, DSCI ...  "
      ]
     },
     "execution_count": 34,
     "metadata": {},
     "output_type": "execute_result"
    }
   ],
   "source": [
    "final_df"
   ]
  },
  {
   "cell_type": "markdown",
   "metadata": {},
   "source": [
    "> The URL's are not displaying completely but the links work because of which I go to that link and then from that new html i extract the Pre requisitives."
   ]
  },
  {
   "cell_type": "code",
   "execution_count": 35,
   "metadata": {},
   "outputs": [
    {
     "data": {
      "image/svg+xml": [
       "<?xml version=\"1.0\" encoding=\"UTF-8\" standalone=\"no\"?>\r\n",
       "<!DOCTYPE svg PUBLIC \"-//W3C//DTD SVG 1.1//EN\"\r\n",
       " \"http://www.w3.org/Graphics/SVG/1.1/DTD/svg11.dtd\">\r\n",
       "<!-- Generated by graphviz version 2.38.0 (20140413.2041)\r\n",
       " -->\r\n",
       "<!-- Title: %3 Pages: 1 -->\r\n",
       "<svg width=\"1003pt\" height=\"332pt\"\r\n",
       " viewBox=\"0.00 0.00 1003.27 332.00\" xmlns=\"http://www.w3.org/2000/svg\" xmlns:xlink=\"http://www.w3.org/1999/xlink\">\r\n",
       "<g id=\"graph0\" class=\"graph\" transform=\"scale(1 1) rotate(0) translate(4 328)\">\r\n",
       "<title>%3</title>\r\n",
       "<polygon fill=\"white\" stroke=\"none\" points=\"-4,4 -4,-328 999.272,-328 999.272,4 -4,4\"/>\r\n",
       "<!-- DSCI 100 -->\r\n",
       "<g id=\"node1\" class=\"node\"><title>DSCI 100</title>\r\n",
       "<ellipse fill=\"none\" stroke=\"black\" cx=\"382.826\" cy=\"-306\" rx=\"47.3916\" ry=\"18\"/>\r\n",
       "<text text-anchor=\"middle\" x=\"382.826\" y=\"-302.3\" font-family=\"Times New Roman,serif\" font-size=\"14.00\">DSCI 100</text>\r\n",
       "</g>\r\n",
       "<!-- DSCI 511 -->\r\n",
       "<g id=\"node2\" class=\"node\"><title>DSCI 511</title>\r\n",
       "<ellipse fill=\"none\" stroke=\"black\" cx=\"608.826\" cy=\"-306\" rx=\"47.3916\" ry=\"18\"/>\r\n",
       "<text text-anchor=\"middle\" x=\"608.826\" y=\"-302.3\" font-family=\"Times New Roman,serif\" font-size=\"14.00\">DSCI 511</text>\r\n",
       "</g>\r\n",
       "<!-- DSCI 512 -->\r\n",
       "<g id=\"node3\" class=\"node\"><title>DSCI 512</title>\r\n",
       "<ellipse fill=\"none\" stroke=\"black\" cx=\"834.826\" cy=\"-234\" rx=\"47.3916\" ry=\"18\"/>\r\n",
       "<text text-anchor=\"middle\" x=\"834.826\" y=\"-230.3\" font-family=\"Times New Roman,serif\" font-size=\"14.00\">DSCI 512</text>\r\n",
       "</g>\r\n",
       "<!-- DSCI 511&#45;&gt;DSCI 512 -->\r\n",
       "<g id=\"edge1\" class=\"edge\"><title>DSCI 511&#45;&gt;DSCI 512</title>\r\n",
       "<path fill=\"none\" stroke=\"black\" d=\"M644.387,-293.985C683.597,-281.841 746.775,-262.272 789.507,-249.037\"/>\r\n",
       "<polygon fill=\"black\" stroke=\"black\" points=\"790.583,-252.368 799.099,-246.066 788.512,-245.681 790.583,-252.368\"/>\r\n",
       "</g>\r\n",
       "<!-- DSCI 522 -->\r\n",
       "<g id=\"node6\" class=\"node\"><title>DSCI 522</title>\r\n",
       "<ellipse fill=\"none\" stroke=\"black\" cx=\"495.826\" cy=\"-234\" rx=\"47.3916\" ry=\"18\"/>\r\n",
       "<text text-anchor=\"middle\" x=\"495.826\" y=\"-230.3\" font-family=\"Times New Roman,serif\" font-size=\"14.00\">DSCI 522</text>\r\n",
       "</g>\r\n",
       "<!-- DSCI 511&#45;&gt;DSCI 522 -->\r\n",
       "<g id=\"edge3\" class=\"edge\"><title>DSCI 511&#45;&gt;DSCI 522</title>\r\n",
       "<path fill=\"none\" stroke=\"black\" d=\"M585.137,-290.326C568.564,-280.059 546.226,-266.221 528.036,-254.953\"/>\r\n",
       "<polygon fill=\"black\" stroke=\"black\" points=\"529.828,-251.946 519.483,-249.655 526.141,-257.897 529.828,-251.946\"/>\r\n",
       "</g>\r\n",
       "<!-- DSCI 523 -->\r\n",
       "<g id=\"node7\" class=\"node\"><title>DSCI 523</title>\r\n",
       "<ellipse fill=\"none\" stroke=\"black\" cx=\"608.826\" cy=\"-234\" rx=\"47.3916\" ry=\"18\"/>\r\n",
       "<text text-anchor=\"middle\" x=\"608.826\" y=\"-230.3\" font-family=\"Times New Roman,serif\" font-size=\"14.00\">DSCI 523</text>\r\n",
       "</g>\r\n",
       "<!-- DSCI 511&#45;&gt;DSCI 523 -->\r\n",
       "<g id=\"edge5\" class=\"edge\"><title>DSCI 511&#45;&gt;DSCI 523</title>\r\n",
       "<path fill=\"none\" stroke=\"black\" d=\"M608.826,-287.697C608.826,-279.983 608.826,-270.712 608.826,-262.112\"/>\r\n",
       "<polygon fill=\"black\" stroke=\"black\" points=\"612.326,-262.104 608.826,-252.104 605.326,-262.104 612.326,-262.104\"/>\r\n",
       "</g>\r\n",
       "<!-- DSCI 531 -->\r\n",
       "<g id=\"node10\" class=\"node\"><title>DSCI 531</title>\r\n",
       "<ellipse fill=\"none\" stroke=\"black\" cx=\"382.826\" cy=\"-234\" rx=\"47.3916\" ry=\"18\"/>\r\n",
       "<text text-anchor=\"middle\" x=\"382.826\" y=\"-230.3\" font-family=\"Times New Roman,serif\" font-size=\"14.00\">DSCI 531</text>\r\n",
       "</g>\r\n",
       "<!-- DSCI 511&#45;&gt;DSCI 531 -->\r\n",
       "<g id=\"edge10\" class=\"edge\"><title>DSCI 511&#45;&gt;DSCI 531</title>\r\n",
       "<path fill=\"none\" stroke=\"black\" d=\"M573.265,-293.985C534.055,-281.841 470.877,-262.272 428.145,-249.037\"/>\r\n",
       "<polygon fill=\"black\" stroke=\"black\" points=\"429.14,-245.681 418.553,-246.066 427.069,-252.368 429.14,-245.681\"/>\r\n",
       "</g>\r\n",
       "<!-- DSCI 563 -->\r\n",
       "<g id=\"node20\" class=\"node\"><title>DSCI 563</title>\r\n",
       "<ellipse fill=\"none\" stroke=\"black\" cx=\"721.826\" cy=\"-234\" rx=\"47.3916\" ry=\"18\"/>\r\n",
       "<text text-anchor=\"middle\" x=\"721.826\" y=\"-230.3\" font-family=\"Times New Roman,serif\" font-size=\"14.00\">DSCI 563</text>\r\n",
       "</g>\r\n",
       "<!-- DSCI 511&#45;&gt;DSCI 563 -->\r\n",
       "<g id=\"edge19\" class=\"edge\"><title>DSCI 511&#45;&gt;DSCI 563</title>\r\n",
       "<path fill=\"none\" stroke=\"black\" d=\"M632.514,-290.326C649.088,-280.059 671.426,-266.221 689.616,-254.953\"/>\r\n",
       "<polygon fill=\"black\" stroke=\"black\" points=\"691.511,-257.897 698.169,-249.655 687.824,-251.946 691.511,-257.897\"/>\r\n",
       "</g>\r\n",
       "<!-- DSCI 571 -->\r\n",
       "<g id=\"node21\" class=\"node\"><title>DSCI 571</title>\r\n",
       "<ellipse fill=\"none\" stroke=\"black\" cx=\"269.826\" cy=\"-234\" rx=\"47.3916\" ry=\"18\"/>\r\n",
       "<text text-anchor=\"middle\" x=\"269.826\" y=\"-230.3\" font-family=\"Times New Roman,serif\" font-size=\"14.00\">DSCI 571</text>\r\n",
       "</g>\r\n",
       "<!-- DSCI 511&#45;&gt;DSCI 571 -->\r\n",
       "<g id=\"edge21\" class=\"edge\"><title>DSCI 511&#45;&gt;DSCI 571</title>\r\n",
       "<path fill=\"none\" stroke=\"black\" d=\"M573.746,-293.752C566.542,-291.664 558.974,-289.63 551.826,-288 453.09,-265.48 425.562,-274.52 326.826,-252 322.917,-251.108 318.882,-250.096 314.85,-249.02\"/>\r\n",
       "<polygon fill=\"black\" stroke=\"black\" points=\"315.478,-245.562 304.906,-246.248 313.598,-252.305 315.478,-245.562\"/>\r\n",
       "</g>\r\n",
       "<!-- DSCI 513 -->\r\n",
       "<g id=\"node4\" class=\"node\"><title>DSCI 513</title>\r\n",
       "<ellipse fill=\"none\" stroke=\"black\" cx=\"627.826\" cy=\"-90\" rx=\"47.3916\" ry=\"18\"/>\r\n",
       "<text text-anchor=\"middle\" x=\"627.826\" y=\"-86.3\" font-family=\"Times New Roman,serif\" font-size=\"14.00\">DSCI 513</text>\r\n",
       "</g>\r\n",
       "<!-- DSCI 591 -->\r\n",
       "<g id=\"node26\" class=\"node\"><title>DSCI 591</title>\r\n",
       "<ellipse fill=\"none\" stroke=\"black\" cx=\"476.826\" cy=\"-18\" rx=\"47.3916\" ry=\"18\"/>\r\n",
       "<text text-anchor=\"middle\" x=\"476.826\" y=\"-14.3\" font-family=\"Times New Roman,serif\" font-size=\"14.00\">DSCI 591</text>\r\n",
       "</g>\r\n",
       "<!-- DSCI 513&#45;&gt;DSCI 591 -->\r\n",
       "<g id=\"edge27\" class=\"edge\"><title>DSCI 513&#45;&gt;DSCI 591</title>\r\n",
       "<path fill=\"none\" stroke=\"black\" d=\"M599.069,-75.6688C575.215,-64.6108 541.098,-48.7952 514.966,-36.6807\"/>\r\n",
       "<polygon fill=\"black\" stroke=\"black\" points=\"516.278,-33.4311 505.733,-32.4006 513.334,-39.7819 516.278,-33.4311\"/>\r\n",
       "</g>\r\n",
       "<!-- DSCI 521 -->\r\n",
       "<g id=\"node5\" class=\"node\"><title>DSCI 521</title>\r\n",
       "<ellipse fill=\"none\" stroke=\"black\" cx=\"495.826\" cy=\"-306\" rx=\"47.3916\" ry=\"18\"/>\r\n",
       "<text text-anchor=\"middle\" x=\"495.826\" y=\"-302.3\" font-family=\"Times New Roman,serif\" font-size=\"14.00\">DSCI 521</text>\r\n",
       "</g>\r\n",
       "<!-- DSCI 521&#45;&gt;DSCI 512 -->\r\n",
       "<g id=\"edge2\" class=\"edge\"><title>DSCI 521&#45;&gt;DSCI 512</title>\r\n",
       "<path fill=\"none\" stroke=\"black\" d=\"M530.906,-293.752C538.11,-291.664 545.678,-289.63 552.826,-288 651.562,-265.48 679.09,-274.52 777.826,-252 781.735,-251.108 785.77,-250.096 789.802,-249.02\"/>\r\n",
       "<polygon fill=\"black\" stroke=\"black\" points=\"791.054,-252.305 799.746,-246.248 789.174,-245.562 791.054,-252.305\"/>\r\n",
       "</g>\r\n",
       "<!-- DSCI 521&#45;&gt;DSCI 522 -->\r\n",
       "<g id=\"edge4\" class=\"edge\"><title>DSCI 521&#45;&gt;DSCI 522</title>\r\n",
       "<path fill=\"none\" stroke=\"black\" d=\"M495.826,-287.697C495.826,-279.983 495.826,-270.712 495.826,-262.112\"/>\r\n",
       "<polygon fill=\"black\" stroke=\"black\" points=\"499.326,-262.104 495.826,-252.104 492.326,-262.104 499.326,-262.104\"/>\r\n",
       "</g>\r\n",
       "<!-- DSCI 521&#45;&gt;DSCI 523 -->\r\n",
       "<g id=\"edge6\" class=\"edge\"><title>DSCI 521&#45;&gt;DSCI 523</title>\r\n",
       "<path fill=\"none\" stroke=\"black\" d=\"M519.514,-290.326C536.088,-280.059 558.426,-266.221 576.616,-254.953\"/>\r\n",
       "<polygon fill=\"black\" stroke=\"black\" points=\"578.511,-257.897 585.169,-249.655 574.824,-251.946 578.511,-257.897\"/>\r\n",
       "</g>\r\n",
       "<!-- DSCI 521&#45;&gt;DSCI 531 -->\r\n",
       "<g id=\"edge11\" class=\"edge\"><title>DSCI 521&#45;&gt;DSCI 531</title>\r\n",
       "<path fill=\"none\" stroke=\"black\" d=\"M472.137,-290.326C455.564,-280.059 433.226,-266.221 415.036,-254.953\"/>\r\n",
       "<polygon fill=\"black\" stroke=\"black\" points=\"416.828,-251.946 406.483,-249.655 413.141,-257.897 416.828,-251.946\"/>\r\n",
       "</g>\r\n",
       "<!-- DSCI 521&#45;&gt;DSCI 563 -->\r\n",
       "<g id=\"edge20\" class=\"edge\"><title>DSCI 521&#45;&gt;DSCI 563</title>\r\n",
       "<path fill=\"none\" stroke=\"black\" d=\"M531.387,-293.985C570.597,-281.841 633.775,-262.272 676.507,-249.037\"/>\r\n",
       "<polygon fill=\"black\" stroke=\"black\" points=\"677.583,-252.368 686.099,-246.066 675.512,-245.681 677.583,-252.368\"/>\r\n",
       "</g>\r\n",
       "<!-- DSCI 521&#45;&gt;DSCI 571 -->\r\n",
       "<g id=\"edge22\" class=\"edge\"><title>DSCI 521&#45;&gt;DSCI 571</title>\r\n",
       "<path fill=\"none\" stroke=\"black\" d=\"M460.265,-293.985C421.055,-281.841 357.877,-262.272 315.145,-249.037\"/>\r\n",
       "<polygon fill=\"black\" stroke=\"black\" points=\"316.14,-245.681 305.553,-246.066 314.069,-252.368 316.14,-245.681\"/>\r\n",
       "</g>\r\n",
       "<!-- DSCI 524 -->\r\n",
       "<g id=\"node8\" class=\"node\"><title>DSCI 524</title>\r\n",
       "<ellipse fill=\"none\" stroke=\"black\" cx=\"495.826\" cy=\"-162\" rx=\"47.3916\" ry=\"18\"/>\r\n",
       "<text text-anchor=\"middle\" x=\"495.826\" y=\"-158.3\" font-family=\"Times New Roman,serif\" font-size=\"14.00\">DSCI 524</text>\r\n",
       "</g>\r\n",
       "<!-- DSCI 522&#45;&gt;DSCI 524 -->\r\n",
       "<g id=\"edge7\" class=\"edge\"><title>DSCI 522&#45;&gt;DSCI 524</title>\r\n",
       "<path fill=\"none\" stroke=\"black\" d=\"M495.826,-215.697C495.826,-207.983 495.826,-198.712 495.826,-190.112\"/>\r\n",
       "<polygon fill=\"black\" stroke=\"black\" points=\"499.326,-190.104 495.826,-180.104 492.326,-190.104 499.326,-190.104\"/>\r\n",
       "</g>\r\n",
       "<!-- DSCI 525 -->\r\n",
       "<g id=\"node9\" class=\"node\"><title>DSCI 525</title>\r\n",
       "<ellipse fill=\"none\" stroke=\"black\" cx=\"608.826\" cy=\"-162\" rx=\"47.3916\" ry=\"18\"/>\r\n",
       "<text text-anchor=\"middle\" x=\"608.826\" y=\"-158.3\" font-family=\"Times New Roman,serif\" font-size=\"14.00\">DSCI 525</text>\r\n",
       "</g>\r\n",
       "<!-- DSCI 522&#45;&gt;DSCI 525 -->\r\n",
       "<g id=\"edge8\" class=\"edge\"><title>DSCI 522&#45;&gt;DSCI 525</title>\r\n",
       "<path fill=\"none\" stroke=\"black\" d=\"M519.514,-218.326C536.088,-208.059 558.426,-194.221 576.616,-182.953\"/>\r\n",
       "<polygon fill=\"black\" stroke=\"black\" points=\"578.511,-185.897 585.169,-177.655 574.824,-179.946 578.511,-185.897\"/>\r\n",
       "</g>\r\n",
       "<!-- DSCI 523&#45;&gt;DSCI 525 -->\r\n",
       "<g id=\"edge9\" class=\"edge\"><title>DSCI 523&#45;&gt;DSCI 525</title>\r\n",
       "<path fill=\"none\" stroke=\"black\" d=\"M608.826,-215.697C608.826,-207.983 608.826,-198.712 608.826,-190.112\"/>\r\n",
       "<polygon fill=\"black\" stroke=\"black\" points=\"612.326,-190.104 608.826,-180.104 605.326,-190.104 612.326,-190.104\"/>\r\n",
       "</g>\r\n",
       "<!-- DSCI 524&#45;&gt;DSCI 591 -->\r\n",
       "<g id=\"edge28\" class=\"edge\"><title>DSCI 524&#45;&gt;DSCI 591</title>\r\n",
       "<path fill=\"none\" stroke=\"black\" d=\"M495.886,-143.829C495.71,-125.825 494.751,-96.7616 490.826,-72 489.449,-63.3127 487.242,-53.9901 484.983,-45.6232\"/>\r\n",
       "<polygon fill=\"black\" stroke=\"black\" points=\"488.349,-44.6648 482.254,-35.9984 481.614,-46.5739 488.349,-44.6648\"/>\r\n",
       "</g>\r\n",
       "<!-- DSCI 525&#45;&gt;DSCI 591 -->\r\n",
       "<g id=\"edge29\" class=\"edge\"><title>DSCI 525&#45;&gt;DSCI 591</title>\r\n",
       "<path fill=\"none\" stroke=\"black\" d=\"M593.684,-144.711C570.41,-119.673 525.726,-71.6046 498.863,-42.7065\"/>\r\n",
       "<polygon fill=\"black\" stroke=\"black\" points=\"501.163,-40.0405 491.791,-35.0992 496.036,-44.8065 501.163,-40.0405\"/>\r\n",
       "</g>\r\n",
       "<!-- DSCI 532 -->\r\n",
       "<g id=\"node11\" class=\"node\"><title>DSCI 532</title>\r\n",
       "<ellipse fill=\"none\" stroke=\"black\" cx=\"382.826\" cy=\"-162\" rx=\"47.3916\" ry=\"18\"/>\r\n",
       "<text text-anchor=\"middle\" x=\"382.826\" y=\"-158.3\" font-family=\"Times New Roman,serif\" font-size=\"14.00\">DSCI 532</text>\r\n",
       "</g>\r\n",
       "<!-- DSCI 531&#45;&gt;DSCI 532 -->\r\n",
       "<g id=\"edge12\" class=\"edge\"><title>DSCI 531&#45;&gt;DSCI 532</title>\r\n",
       "<path fill=\"none\" stroke=\"black\" d=\"M382.826,-215.697C382.826,-207.983 382.826,-198.712 382.826,-190.112\"/>\r\n",
       "<polygon fill=\"black\" stroke=\"black\" points=\"386.326,-190.104 382.826,-180.104 379.326,-190.104 386.326,-190.104\"/>\r\n",
       "</g>\r\n",
       "<!-- DSCI 532&#45;&gt;DSCI 591 -->\r\n",
       "<g id=\"edge30\" class=\"edge\"><title>DSCI 532&#45;&gt;DSCI 591</title>\r\n",
       "<path fill=\"none\" stroke=\"black\" d=\"M411.527,-147.488C427.548,-138.494 446.503,-125.171 457.826,-108 469.895,-89.6968 474.463,-65.0861 476.115,-46.3838\"/>\r\n",
       "<polygon fill=\"black\" stroke=\"black\" points=\"479.624,-46.3546 476.786,-36.1472 472.639,-45.897 479.624,-46.3546\"/>\r\n",
       "</g>\r\n",
       "<!-- DSCI 541 -->\r\n",
       "<g id=\"node12\" class=\"node\"><title>DSCI 541</title>\r\n",
       "<ellipse fill=\"none\" stroke=\"black\" cx=\"62.826\" cy=\"-90\" rx=\"47.3916\" ry=\"18\"/>\r\n",
       "<text text-anchor=\"middle\" x=\"62.826\" y=\"-86.3\" font-family=\"Times New Roman,serif\" font-size=\"14.00\">DSCI 541</text>\r\n",
       "</g>\r\n",
       "<!-- DSCI 541&#45;&gt;DSCI 591 -->\r\n",
       "<g id=\"edge31\" class=\"edge\"><title>DSCI 541&#45;&gt;DSCI 591</title>\r\n",
       "<path fill=\"none\" stroke=\"black\" d=\"M97.8913,-77.6888C105.097,-75.6058 112.669,-73.5901 119.826,-72 225.495,-48.5241 351.12,-32.597 421.648,-24.721\"/>\r\n",
       "<polygon fill=\"black\" stroke=\"black\" points=\"422.09,-28.1936 431.645,-23.6174 421.321,-21.2359 422.09,-28.1936\"/>\r\n",
       "</g>\r\n",
       "<!-- DSCI 542 -->\r\n",
       "<g id=\"node13\" class=\"node\"><title>DSCI 542</title>\r\n",
       "<ellipse fill=\"none\" stroke=\"black\" cx=\"175.826\" cy=\"-90\" rx=\"47.3916\" ry=\"18\"/>\r\n",
       "<text text-anchor=\"middle\" x=\"175.826\" y=\"-86.3\" font-family=\"Times New Roman,serif\" font-size=\"14.00\">DSCI 542</text>\r\n",
       "</g>\r\n",
       "<!-- DSCI 542&#45;&gt;DSCI 591 -->\r\n",
       "<g id=\"edge32\" class=\"edge\"><title>DSCI 542&#45;&gt;DSCI 591</title>\r\n",
       "<path fill=\"none\" stroke=\"black\" d=\"M211.285,-77.971C218.392,-75.8888 225.825,-73.8015 232.826,-72 299.005,-54.9699 376.202,-38.8166 425.753,-28.9178\"/>\r\n",
       "<polygon fill=\"black\" stroke=\"black\" points=\"426.462,-32.3454 435.588,-26.9627 425.098,-25.4797 426.462,-32.3454\"/>\r\n",
       "</g>\r\n",
       "<!-- DSCI 551 -->\r\n",
       "<g id=\"node14\" class=\"node\"><title>DSCI 551</title>\r\n",
       "<ellipse fill=\"none\" stroke=\"black\" cx=\"947.826\" cy=\"-306\" rx=\"47.3916\" ry=\"18\"/>\r\n",
       "<text text-anchor=\"middle\" x=\"947.826\" y=\"-302.3\" font-family=\"Times New Roman,serif\" font-size=\"14.00\">DSCI 551</text>\r\n",
       "</g>\r\n",
       "<!-- DSCI 552 -->\r\n",
       "<g id=\"node15\" class=\"node\"><title>DSCI 552</title>\r\n",
       "<ellipse fill=\"none\" stroke=\"black\" cx=\"947.826\" cy=\"-234\" rx=\"47.3916\" ry=\"18\"/>\r\n",
       "<text text-anchor=\"middle\" x=\"947.826\" y=\"-230.3\" font-family=\"Times New Roman,serif\" font-size=\"14.00\">DSCI 552</text>\r\n",
       "</g>\r\n",
       "<!-- DSCI 551&#45;&gt;DSCI 552 -->\r\n",
       "<g id=\"edge13\" class=\"edge\"><title>DSCI 551&#45;&gt;DSCI 552</title>\r\n",
       "<path fill=\"none\" stroke=\"black\" d=\"M947.826,-287.697C947.826,-279.983 947.826,-270.712 947.826,-262.112\"/>\r\n",
       "<polygon fill=\"black\" stroke=\"black\" points=\"951.326,-262.104 947.826,-252.104 944.326,-262.104 951.326,-262.104\"/>\r\n",
       "</g>\r\n",
       "<!-- DSCI 553 -->\r\n",
       "<g id=\"node16\" class=\"node\"><title>DSCI 553</title>\r\n",
       "<ellipse fill=\"none\" stroke=\"black\" cx=\"834.826\" cy=\"-162\" rx=\"47.3916\" ry=\"18\"/>\r\n",
       "<text text-anchor=\"middle\" x=\"834.826\" y=\"-158.3\" font-family=\"Times New Roman,serif\" font-size=\"14.00\">DSCI 553</text>\r\n",
       "</g>\r\n",
       "<!-- DSCI 552&#45;&gt;DSCI 553 -->\r\n",
       "<g id=\"edge14\" class=\"edge\"><title>DSCI 552&#45;&gt;DSCI 553</title>\r\n",
       "<path fill=\"none\" stroke=\"black\" d=\"M924.137,-218.326C907.564,-208.059 885.226,-194.221 867.036,-182.953\"/>\r\n",
       "<polygon fill=\"black\" stroke=\"black\" points=\"868.828,-179.946 858.483,-177.655 865.141,-185.897 868.828,-179.946\"/>\r\n",
       "</g>\r\n",
       "<!-- DSCI 561 -->\r\n",
       "<g id=\"node18\" class=\"node\"><title>DSCI 561</title>\r\n",
       "<ellipse fill=\"none\" stroke=\"black\" cx=\"947.826\" cy=\"-162\" rx=\"47.3916\" ry=\"18\"/>\r\n",
       "<text text-anchor=\"middle\" x=\"947.826\" y=\"-158.3\" font-family=\"Times New Roman,serif\" font-size=\"14.00\">DSCI 561</text>\r\n",
       "</g>\r\n",
       "<!-- DSCI 552&#45;&gt;DSCI 561 -->\r\n",
       "<g id=\"edge17\" class=\"edge\"><title>DSCI 552&#45;&gt;DSCI 561</title>\r\n",
       "<path fill=\"none\" stroke=\"black\" d=\"M947.826,-215.697C947.826,-207.983 947.826,-198.712 947.826,-190.112\"/>\r\n",
       "<polygon fill=\"black\" stroke=\"black\" points=\"951.326,-190.104 947.826,-180.104 944.326,-190.104 951.326,-190.104\"/>\r\n",
       "</g>\r\n",
       "<!-- DSCI 554 -->\r\n",
       "<g id=\"node17\" class=\"node\"><title>DSCI 554</title>\r\n",
       "<ellipse fill=\"none\" stroke=\"black\" cx=\"834.826\" cy=\"-90\" rx=\"47.3916\" ry=\"18\"/>\r\n",
       "<text text-anchor=\"middle\" x=\"834.826\" y=\"-86.3\" font-family=\"Times New Roman,serif\" font-size=\"14.00\">DSCI 554</text>\r\n",
       "</g>\r\n",
       "<!-- DSCI 553&#45;&gt;DSCI 554 -->\r\n",
       "<g id=\"edge15\" class=\"edge\"><title>DSCI 553&#45;&gt;DSCI 554</title>\r\n",
       "<path fill=\"none\" stroke=\"black\" d=\"M834.826,-143.697C834.826,-135.983 834.826,-126.712 834.826,-118.112\"/>\r\n",
       "<polygon fill=\"black\" stroke=\"black\" points=\"838.326,-118.104 834.826,-108.104 831.326,-118.104 838.326,-118.104\"/>\r\n",
       "</g>\r\n",
       "<!-- DSCI 554&#45;&gt;DSCI 591 -->\r\n",
       "<g id=\"edge33\" class=\"edge\"><title>DSCI 554&#45;&gt;DSCI 591</title>\r\n",
       "<path fill=\"none\" stroke=\"black\" d=\"M793.759,-80.9701C728.114,-68.1345 599.67,-43.0199 528.097,-29.0251\"/>\r\n",
       "<polygon fill=\"black\" stroke=\"black\" points=\"528.45,-25.5279 517.964,-27.0438 527.107,-32.3978 528.45,-25.5279\"/>\r\n",
       "</g>\r\n",
       "<!-- DSCI 561&#45;&gt;DSCI 554 -->\r\n",
       "<g id=\"edge16\" class=\"edge\"><title>DSCI 561&#45;&gt;DSCI 554</title>\r\n",
       "<path fill=\"none\" stroke=\"black\" d=\"M924.137,-146.326C907.564,-136.059 885.226,-122.221 867.036,-110.953\"/>\r\n",
       "<polygon fill=\"black\" stroke=\"black\" points=\"868.828,-107.946 858.483,-105.655 865.141,-113.897 868.828,-107.946\"/>\r\n",
       "</g>\r\n",
       "<!-- DSCI 562 -->\r\n",
       "<g id=\"node19\" class=\"node\"><title>DSCI 562</title>\r\n",
       "<ellipse fill=\"none\" stroke=\"black\" cx=\"947.826\" cy=\"-90\" rx=\"47.3916\" ry=\"18\"/>\r\n",
       "<text text-anchor=\"middle\" x=\"947.826\" y=\"-86.3\" font-family=\"Times New Roman,serif\" font-size=\"14.00\">DSCI 562</text>\r\n",
       "</g>\r\n",
       "<!-- DSCI 561&#45;&gt;DSCI 562 -->\r\n",
       "<g id=\"edge18\" class=\"edge\"><title>DSCI 561&#45;&gt;DSCI 562</title>\r\n",
       "<path fill=\"none\" stroke=\"black\" d=\"M947.826,-143.697C947.826,-135.983 947.826,-126.712 947.826,-118.112\"/>\r\n",
       "<polygon fill=\"black\" stroke=\"black\" points=\"951.326,-118.104 947.826,-108.104 944.326,-118.104 951.326,-118.104\"/>\r\n",
       "</g>\r\n",
       "<!-- DSCI 563&#45;&gt;DSCI 591 -->\r\n",
       "<g id=\"edge34\" class=\"edge\"><title>DSCI 563&#45;&gt;DSCI 591</title>\r\n",
       "<path fill=\"none\" stroke=\"black\" d=\"M723.097,-215.989C724.542,-183.35 722.749,-111.664 683.826,-72 662.712,-50.4835 584.975,-34.9253 531.021,-26.4323\"/>\r\n",
       "<polygon fill=\"black\" stroke=\"black\" points=\"531.322,-22.9376 520.907,-24.8785 530.26,-29.8565 531.322,-22.9376\"/>\r\n",
       "</g>\r\n",
       "<!-- DSCI 572 -->\r\n",
       "<g id=\"node22\" class=\"node\"><title>DSCI 572</title>\r\n",
       "<ellipse fill=\"none\" stroke=\"black\" cx=\"269.826\" cy=\"-162\" rx=\"47.3916\" ry=\"18\"/>\r\n",
       "<text text-anchor=\"middle\" x=\"269.826\" y=\"-158.3\" font-family=\"Times New Roman,serif\" font-size=\"14.00\">DSCI 572</text>\r\n",
       "</g>\r\n",
       "<!-- DSCI 571&#45;&gt;DSCI 572 -->\r\n",
       "<g id=\"edge23\" class=\"edge\"><title>DSCI 571&#45;&gt;DSCI 572</title>\r\n",
       "<path fill=\"none\" stroke=\"black\" d=\"M269.826,-215.697C269.826,-207.983 269.826,-198.712 269.826,-190.112\"/>\r\n",
       "<polygon fill=\"black\" stroke=\"black\" points=\"273.326,-190.104 269.826,-180.104 266.326,-190.104 273.326,-190.104\"/>\r\n",
       "</g>\r\n",
       "<!-- DSCI 573 -->\r\n",
       "<g id=\"node23\" class=\"node\"><title>DSCI 573</title>\r\n",
       "<ellipse fill=\"none\" stroke=\"black\" cx=\"72.826\" cy=\"-162\" rx=\"47.3916\" ry=\"18\"/>\r\n",
       "<text text-anchor=\"middle\" x=\"72.826\" y=\"-158.3\" font-family=\"Times New Roman,serif\" font-size=\"14.00\">DSCI 573</text>\r\n",
       "</g>\r\n",
       "<!-- DSCI 571&#45;&gt;DSCI 573 -->\r\n",
       "<g id=\"edge24\" class=\"edge\"><title>DSCI 571&#45;&gt;DSCI 573</title>\r\n",
       "<path fill=\"none\" stroke=\"black\" d=\"M236.408,-221.125C203.295,-209.36 152.421,-191.283 116.207,-178.415\"/>\r\n",
       "<polygon fill=\"black\" stroke=\"black\" points=\"117.003,-174.983 106.408,-174.933 114.659,-181.579 117.003,-174.983\"/>\r\n",
       "</g>\r\n",
       "<!-- DSCI 574 -->\r\n",
       "<g id=\"node24\" class=\"node\"><title>DSCI 574</title>\r\n",
       "<ellipse fill=\"none\" stroke=\"black\" cx=\"401.826\" cy=\"-90\" rx=\"47.3916\" ry=\"18\"/>\r\n",
       "<text text-anchor=\"middle\" x=\"401.826\" y=\"-86.3\" font-family=\"Times New Roman,serif\" font-size=\"14.00\">DSCI 574</text>\r\n",
       "</g>\r\n",
       "<!-- DSCI 572&#45;&gt;DSCI 574 -->\r\n",
       "<g id=\"edge25\" class=\"edge\"><title>DSCI 572&#45;&gt;DSCI 574</title>\r\n",
       "<path fill=\"none\" stroke=\"black\" d=\"M296.221,-147.003C316.365,-136.32 344.321,-121.495 366.41,-109.781\"/>\r\n",
       "<polygon fill=\"black\" stroke=\"black\" points=\"368.282,-112.75 375.477,-104.973 365.002,-106.566 368.282,-112.75\"/>\r\n",
       "</g>\r\n",
       "<!-- DSCI 575 -->\r\n",
       "<g id=\"node25\" class=\"node\"><title>DSCI 575</title>\r\n",
       "<ellipse fill=\"none\" stroke=\"black\" cx=\"288.826\" cy=\"-90\" rx=\"47.3916\" ry=\"18\"/>\r\n",
       "<text text-anchor=\"middle\" x=\"288.826\" y=\"-86.3\" font-family=\"Times New Roman,serif\" font-size=\"14.00\">DSCI 575</text>\r\n",
       "</g>\r\n",
       "<!-- DSCI 572&#45;&gt;DSCI 575 -->\r\n",
       "<g id=\"edge26\" class=\"edge\"><title>DSCI 572&#45;&gt;DSCI 575</title>\r\n",
       "<path fill=\"none\" stroke=\"black\" d=\"M274.425,-144.055C276.541,-136.261 279.103,-126.822 281.476,-118.079\"/>\r\n",
       "<polygon fill=\"black\" stroke=\"black\" points=\"284.895,-118.843 284.137,-108.275 278.14,-117.009 284.895,-118.843\"/>\r\n",
       "</g>\r\n",
       "<!-- DSCI 573&#45;&gt;DSCI 591 -->\r\n",
       "<g id=\"edge35\" class=\"edge\"><title>DSCI 573&#45;&gt;DSCI 591</title>\r\n",
       "<path fill=\"none\" stroke=\"black\" d=\"M45.5861,-147.009C31.2014,-138.004 14.8952,-124.829 6.82597,-108 -0.0917416,-93.5728 -3.83503,-83.9308 6.82597,-72 33.9065,-41.694 300.2,-26.5644 419.516,-21.2631\"/>\r\n",
       "<polygon fill=\"black\" stroke=\"black\" points=\"419.726,-24.7573 429.564,-20.8245 419.421,-17.764 419.726,-24.7573\"/>\r\n",
       "</g>\r\n",
       "<!-- DSCI 574&#45;&gt;DSCI 591 -->\r\n",
       "<g id=\"edge36\" class=\"edge\"><title>DSCI 574&#45;&gt;DSCI 591</title>\r\n",
       "<path fill=\"none\" stroke=\"black\" d=\"M418.845,-73.1159C428.722,-63.8975 441.333,-52.1269 452.27,-41.9191\"/>\r\n",
       "<polygon fill=\"black\" stroke=\"black\" points=\"454.952,-44.2031 459.875,-34.8212 450.176,-39.0857 454.952,-44.2031\"/>\r\n",
       "</g>\r\n",
       "<!-- DSCI 575&#45;&gt;DSCI 591 -->\r\n",
       "<g id=\"edge37\" class=\"edge\"><title>DSCI 575&#45;&gt;DSCI 591</title>\r\n",
       "<path fill=\"none\" stroke=\"black\" d=\"M321.573,-76.8069C352.883,-65.1489 400.253,-47.5113 434.431,-34.7852\"/>\r\n",
       "<polygon fill=\"black\" stroke=\"black\" points=\"435.989,-37.94 444.139,-31.1706 433.547,-31.38 435.989,-37.94\"/>\r\n",
       "</g>\r\n",
       "</g>\r\n",
       "</svg>\r\n"
      ],
      "text/plain": [
       "<graphviz.dot.Digraph at 0x19584fde208>"
      ]
     },
     "execution_count": 35,
     "metadata": {},
     "output_type": "execute_result"
    }
   ],
   "source": [
    "from graphviz import Graph\n",
    "from graphviz import render\n",
    "dot = Digraph(comment='MDS')\n",
    "\n",
    "for i in final_df['Course Number']:\n",
    "    dot.node(i)\n",
    "\n",
    "for k in range(len(final_df['Pre_Req'])):\n",
    "    for m in range(len(final_df.iloc[k,3])):\n",
    "        dot.edge(final_df.iloc[k,3][m],final_df.iloc[k,0])\n",
    "dot"
   ]
  },
  {
   "cell_type": "markdown",
   "metadata": {},
   "source": [
    "# (Optional) Exercise 2 \n",
    "rubric={accuracy:1}\n",
    "\n",
    "In this exercise you will use the [`Scrapy`](https://docs.scrapy.org/en/latest/intro/tutorial.html) package to do the scrapping you did in Exercise 1. This cannot be done in Jupyter notebook, so check the file `lab1_question2.md` in lab1 folder for instructions."
   ]
  },
  {
   "cell_type": "markdown",
   "metadata": {},
   "source": [
    "# (Optional) Exercise 3\n",
    "rubric={accuracy:1}\n",
    "\n",
    "Taking this to the next level, you could point your scraping up one level to this page: https://courses.students.ubc.ca/cs/main?pname=subjarea&tname=subjareas&req=0\n",
    "Crawl through _all_ subjects and _all_ courses and report the course with the largest number of students enrolled."
   ]
  },
  {
   "cell_type": "markdown",
   "metadata": {},
   "source": [
    "# Exercise 4\n",
    "rubric={accuracy:50}\n",
    "\n",
    "All the Game of Thrones episodes are listed, by season, in the following URL: https://en.wikipedia.org/wiki/List_of_Game_of_Thrones_episodes\n",
    "\n",
    "Unfortunately, the running time of each episode is not available. However, in the link provided for each episodes (e.g., https://en.wikipedia.org/wiki/Dragonstone_(Game_of_Thrones)) there is the running time of the respective episode. Collect the episodes' titles, season, number of U.S. viewers, and running time from wikipedia and create a pandas dataframe with the information collected."
   ]
  },
  {
   "cell_type": "code",
   "execution_count": 36,
   "metadata": {},
   "outputs": [],
   "source": [
    "got_request=requests.get('https://en.wikipedia.org/wiki/List_of_Game_of_Thrones_episodes')\n",
    "got=BeautifulSoup(got_request.text)"
   ]
  },
  {
   "cell_type": "code",
   "execution_count": 37,
   "metadata": {},
   "outputs": [],
   "source": [
    "got_tables = got.find_all(\"table\")"
   ]
  },
  {
   "cell_type": "code",
   "execution_count": 38,
   "metadata": {},
   "outputs": [],
   "source": [
    "seasons=[]\n",
    "titles=[]\n",
    "viewers=[]\n",
    "url=[]\n",
    "url_start='https://en.wikipedia.org'\n",
    "\n",
    "for i in range(7):\n",
    "    table_num=i+2\n",
    "    \n",
    "    table=got_tables[table_num].find_all('tr',{'class':'vevent'})\n",
    "    \n",
    "    for m in range(len(table)):\n",
    "        seasons.append(i+1)\n",
    "        titles.append(table[m].find_all('td')[1].text)\n",
    "        viewers.append(table[m].find_all('td')[5].text.split('[')[0])\n",
    "        url.append(url_start+table[m].find_all('a', {'href':True})[0]['href'])\n",
    "\n",
    "GameOfThrones=pd.DataFrame({'Seasons':seasons,'Title':titles,'Viewers (Millions)':viewers, 'url':url})"
   ]
  },
  {
   "cell_type": "code",
   "execution_count": 39,
   "metadata": {},
   "outputs": [
    {
     "data": {
      "text/html": [
       "<div>\n",
       "<style scoped>\n",
       "    .dataframe tbody tr th:only-of-type {\n",
       "        vertical-align: middle;\n",
       "    }\n",
       "\n",
       "    .dataframe tbody tr th {\n",
       "        vertical-align: top;\n",
       "    }\n",
       "\n",
       "    .dataframe thead th {\n",
       "        text-align: right;\n",
       "    }\n",
       "</style>\n",
       "<table border=\"1\" class=\"dataframe\">\n",
       "  <thead>\n",
       "    <tr style=\"text-align: right;\">\n",
       "      <th></th>\n",
       "      <th>Seasons</th>\n",
       "      <th>Title</th>\n",
       "      <th>Viewers (Millions)</th>\n",
       "      <th>url</th>\n",
       "    </tr>\n",
       "  </thead>\n",
       "  <tbody>\n",
       "    <tr>\n",
       "      <th>0</th>\n",
       "      <td>1</td>\n",
       "      <td>\"Winter Is Coming\"</td>\n",
       "      <td>2.22</td>\n",
       "      <td>https://en.wikipedia.org/wiki/Winter_Is_Coming</td>\n",
       "    </tr>\n",
       "    <tr>\n",
       "      <th>1</th>\n",
       "      <td>1</td>\n",
       "      <td>\"The Kingsroad\"</td>\n",
       "      <td>2.20</td>\n",
       "      <td>https://en.wikipedia.org/wiki/The_Kingsroad</td>\n",
       "    </tr>\n",
       "    <tr>\n",
       "      <th>2</th>\n",
       "      <td>1</td>\n",
       "      <td>\"Lord Snow\"</td>\n",
       "      <td>2.44</td>\n",
       "      <td>https://en.wikipedia.org/wiki/Lord_Snow</td>\n",
       "    </tr>\n",
       "    <tr>\n",
       "      <th>3</th>\n",
       "      <td>1</td>\n",
       "      <td>\"Cripples, Bastards, and Broken Things\"</td>\n",
       "      <td>2.45</td>\n",
       "      <td>https://en.wikipedia.org/wiki/Cripples,_Bastar...</td>\n",
       "    </tr>\n",
       "    <tr>\n",
       "      <th>4</th>\n",
       "      <td>1</td>\n",
       "      <td>\"The Wolf and the Lion\"</td>\n",
       "      <td>2.58</td>\n",
       "      <td>https://en.wikipedia.org/wiki/The_Wolf_and_the...</td>\n",
       "    </tr>\n",
       "  </tbody>\n",
       "</table>\n",
       "</div>"
      ],
      "text/plain": [
       "   Seasons                                    Title Viewers (Millions)  \\\n",
       "0        1                       \"Winter Is Coming\"               2.22   \n",
       "1        1                          \"The Kingsroad\"               2.20   \n",
       "2        1                              \"Lord Snow\"               2.44   \n",
       "3        1  \"Cripples, Bastards, and Broken Things\"               2.45   \n",
       "4        1                  \"The Wolf and the Lion\"               2.58   \n",
       "\n",
       "                                                 url  \n",
       "0     https://en.wikipedia.org/wiki/Winter_Is_Coming  \n",
       "1        https://en.wikipedia.org/wiki/The_Kingsroad  \n",
       "2            https://en.wikipedia.org/wiki/Lord_Snow  \n",
       "3  https://en.wikipedia.org/wiki/Cripples,_Bastar...  \n",
       "4  https://en.wikipedia.org/wiki/The_Wolf_and_the...  "
      ]
     },
     "execution_count": 39,
     "metadata": {},
     "output_type": "execute_result"
    }
   ],
   "source": [
    "GameOfThrones.head()"
   ]
  },
  {
   "cell_type": "code",
   "execution_count": 40,
   "metadata": {},
   "outputs": [],
   "source": [
    "duration_list=[]\n",
    "for url_link in GameOfThrones.url:\n",
    "    duration=requests.get(url_link)\n",
    "    duration_got=BeautifulSoup(duration.text)\n",
    "    duration_list.append(duration_got.find_all('table',{'class':'infobox vevent'})[0].find_all('td')[9].text.split('[')[0])"
   ]
  },
  {
   "cell_type": "code",
   "execution_count": 41,
   "metadata": {},
   "outputs": [],
   "source": [
    "GameOfThrones['Duration']=duration_list"
   ]
  },
  {
   "cell_type": "code",
   "execution_count": 42,
   "metadata": {},
   "outputs": [],
   "source": [
    "duration=requests.get(GameOfThrones.url[5])\n",
    "duration_got=BeautifulSoup(duration.text)\n",
    "GameOfThrones.Duration[5]=duration_got.find_all('table',{'class':'infobox vevent'})[0].find_all('td')[10].text.split('[')[0]"
   ]
  },
  {
   "cell_type": "code",
   "execution_count": 43,
   "metadata": {},
   "outputs": [
    {
     "data": {
      "text/html": [
       "<div>\n",
       "<style scoped>\n",
       "    .dataframe tbody tr th:only-of-type {\n",
       "        vertical-align: middle;\n",
       "    }\n",
       "\n",
       "    .dataframe tbody tr th {\n",
       "        vertical-align: top;\n",
       "    }\n",
       "\n",
       "    .dataframe thead th {\n",
       "        text-align: right;\n",
       "    }\n",
       "</style>\n",
       "<table border=\"1\" class=\"dataframe\">\n",
       "  <thead>\n",
       "    <tr style=\"text-align: right;\">\n",
       "      <th></th>\n",
       "      <th>Seasons</th>\n",
       "      <th>Title</th>\n",
       "      <th>Viewers (Millions)</th>\n",
       "      <th>url</th>\n",
       "      <th>Duration</th>\n",
       "    </tr>\n",
       "  </thead>\n",
       "  <tbody>\n",
       "    <tr>\n",
       "      <th>0</th>\n",
       "      <td>1</td>\n",
       "      <td>\"Winter Is Coming\"</td>\n",
       "      <td>2.22</td>\n",
       "      <td>https://en.wikipedia.org/wiki/Winter_Is_Coming</td>\n",
       "      <td>62 minutes</td>\n",
       "    </tr>\n",
       "    <tr>\n",
       "      <th>1</th>\n",
       "      <td>1</td>\n",
       "      <td>\"The Kingsroad\"</td>\n",
       "      <td>2.20</td>\n",
       "      <td>https://en.wikipedia.org/wiki/The_Kingsroad</td>\n",
       "      <td>56 minutes</td>\n",
       "    </tr>\n",
       "    <tr>\n",
       "      <th>2</th>\n",
       "      <td>1</td>\n",
       "      <td>\"Lord Snow\"</td>\n",
       "      <td>2.44</td>\n",
       "      <td>https://en.wikipedia.org/wiki/Lord_Snow</td>\n",
       "      <td>58 minutes</td>\n",
       "    </tr>\n",
       "    <tr>\n",
       "      <th>3</th>\n",
       "      <td>1</td>\n",
       "      <td>\"Cripples, Bastards, and Broken Things\"</td>\n",
       "      <td>2.45</td>\n",
       "      <td>https://en.wikipedia.org/wiki/Cripples,_Bastar...</td>\n",
       "      <td>56 minutes</td>\n",
       "    </tr>\n",
       "    <tr>\n",
       "      <th>4</th>\n",
       "      <td>1</td>\n",
       "      <td>\"The Wolf and the Lion\"</td>\n",
       "      <td>2.58</td>\n",
       "      <td>https://en.wikipedia.org/wiki/The_Wolf_and_the...</td>\n",
       "      <td>55 minutes</td>\n",
       "    </tr>\n",
       "  </tbody>\n",
       "</table>\n",
       "</div>"
      ],
      "text/plain": [
       "   Seasons                                    Title Viewers (Millions)  \\\n",
       "0        1                       \"Winter Is Coming\"               2.22   \n",
       "1        1                          \"The Kingsroad\"               2.20   \n",
       "2        1                              \"Lord Snow\"               2.44   \n",
       "3        1  \"Cripples, Bastards, and Broken Things\"               2.45   \n",
       "4        1                  \"The Wolf and the Lion\"               2.58   \n",
       "\n",
       "                                                 url    Duration  \n",
       "0     https://en.wikipedia.org/wiki/Winter_Is_Coming  62 minutes  \n",
       "1        https://en.wikipedia.org/wiki/The_Kingsroad  56 minutes  \n",
       "2            https://en.wikipedia.org/wiki/Lord_Snow  58 minutes  \n",
       "3  https://en.wikipedia.org/wiki/Cripples,_Bastar...  56 minutes  \n",
       "4  https://en.wikipedia.org/wiki/The_Wolf_and_the...  55 minutes  "
      ]
     },
     "execution_count": 43,
     "metadata": {},
     "output_type": "execute_result"
    }
   ],
   "source": [
    "GameOfThrones.head()"
   ]
  },
  {
   "cell_type": "code",
   "execution_count": null,
   "metadata": {},
   "outputs": [],
   "source": []
  }
 ],
 "metadata": {
  "kernelspec": {
   "display_name": "Python 3",
   "language": "python",
   "name": "python3"
  },
  "language_info": {
   "codemirror_mode": {
    "name": "ipython",
    "version": 3
   },
   "file_extension": ".py",
   "mimetype": "text/x-python",
   "name": "python",
   "nbconvert_exporter": "python",
   "pygments_lexer": "ipython3",
   "version": "3.6.5"
  }
 },
 "nbformat": 4,
 "nbformat_minor": 2
}
